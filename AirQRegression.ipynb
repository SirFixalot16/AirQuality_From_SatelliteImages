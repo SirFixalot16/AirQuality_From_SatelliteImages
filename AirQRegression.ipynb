{
  "nbformat": 4,
  "nbformat_minor": 0,
  "metadata": {
    "colab": {
      "provenance": [],
      "gpuType": "T4"
    },
    "kernelspec": {
      "name": "python3",
      "display_name": "Python 3"
    },
    "language_info": {
      "name": "python"
    },
    "accelerator": "GPU"
  },
  "cells": [
    {
      "cell_type": "code",
      "execution_count": 1,
      "metadata": {
        "id": "lgRuM1YOZ1rb"
      },
      "outputs": [],
      "source": [
        "import numpy as np\n",
        "import pandas as pd\n",
        "import seaborn as sns\n",
        "import matplotlib.pyplot as plt\n",
        "\n",
        "import tensorflow as tf\n",
        "from keras import models\n",
        "from keras import layers\n",
        "from keras import metrics\n",
        "from keras.callbacks import EarlyStopping, ModelCheckpoint\n",
        "\n",
        "import pathlib\n",
        "import cv2\n",
        "import pandas\n"
      ]
    },
    {
      "cell_type": "code",
      "source": [
        "print(\"Num GPUs Available: \", len(tf.config.list_physical_devices('GPU')))"
      ],
      "metadata": {
        "colab": {
          "base_uri": "https://localhost:8080/"
        },
        "id": "qRqsw5vnaKSK",
        "outputId": "ea7701c8-0fdd-4f9b-de58-35fc30a7f168"
      },
      "execution_count": 2,
      "outputs": [
        {
          "output_type": "stream",
          "name": "stdout",
          "text": [
            "Num GPUs Available:  1\n"
          ]
        }
      ]
    },
    {
      "cell_type": "code",
      "source": [
        "!unzip -n './earth_mask.zip'"
      ],
      "metadata": {
        "colab": {
          "base_uri": "https://localhost:8080/"
        },
        "id": "_p6DRYmAaspP",
        "outputId": "deaf907e-7a31-4f7c-c4ff-abf746f7944a"
      },
      "execution_count": 13,
      "outputs": [
        {
          "output_type": "stream",
          "name": "stdout",
          "text": [
            "Archive:  ./earth_mask.zip\n",
            "  inflating: airquality.csv          \n",
            "  inflating: earth_mask/baria.jpg    \n",
            "  inflating: earth_mask/danang.jpg   \n",
            "  inflating: earth_mask/daocathai.jpg  \n",
            "  inflating: earth_mask/haiphong.jpg  \n",
            "  inflating: earth_mask/halong.jpg   \n",
            "  inflating: earth_mask/hanoi_caugiay.jpg  \n",
            "  inflating: earth_mask/hanoi_conhue.jpg  \n",
            "  inflating: earth_mask/hanoi_cuanam.jpg  \n",
            "  inflating: earth_mask/hanoi_daidong.jpg  \n",
            "  inflating: earth_mask/hanoi_hangbai.jpg  \n",
            "  inflating: earth_mask/hanoi_minhkhai.jpg  \n",
            "  inflating: earth_mask/hanoi_ngoclam.jpg  \n",
            "  inflating: earth_mask/hanoi_ngocthuy.jpg  \n",
            "  inflating: earth_mask/hanoi_ochodua.jpg  \n",
            "  inflating: earth_mask/hanoi_quangan.jpg  \n",
            "  inflating: earth_mask/hanoi_quocoai.jpg  \n",
            "  inflating: earth_mask/hanoi_socson.jpg  \n",
            "  inflating: earth_mask/hanoi_tayho.jpg  \n",
            "  inflating: earth_mask/hanoi_tulien.jpg  \n",
            "  inflating: earth_mask/hanoi_vandien.jpg  \n",
            "  inflating: earth_mask/hanoi_xuandinh.jpg  \n",
            "  inflating: earth_mask/hanoi_xuantao.jpg  \n",
            "  inflating: earth_mask/hcm_govap.jpg  \n",
            "  inflating: earth_mask/hcm_q1.jpg   \n",
            "  inflating: earth_mask/hcm_q10.jpg  \n",
            "  inflating: earth_mask/hcm_tanphu.jpg  \n",
            "  inflating: earth_mask/hcm_thaodien.jpg  \n",
            "  inflating: earth_mask/phuquoc_nam.jpg  \n",
            "  inflating: earth_mask/quangninh_uongbi.jpg  \n",
            "  inflating: earth_mask/vungtau.jpg  \n"
          ]
        }
      ]
    },
    {
      "cell_type": "code",
      "source": [
        "# Parametres\n",
        "path_csv = pathlib.Path(r'./airquality.csv')\n",
        "altitude = 2.4"
      ],
      "metadata": {
        "id": "6cvBtvMUaie1"
      },
      "execution_count": 3,
      "outputs": []
    },
    {
      "cell_type": "code",
      "source": [
        "def get_data():\n",
        "    print('date?')\n",
        "    dataframe = pandas.read_csv(path_csv, delimiter=',', names=[\"ct\", \"airq\"])\n",
        "    #print(dataframe)\n",
        "    npdf = np.asarray(dataframe)\n",
        "    print(npdf.shape)\n",
        "    l = len(npdf)\n",
        "    x_list, y_list = npdf[:, 0], npdf[:, 1]\n",
        "    y_list = y_list.astype('float32')\n",
        "    images = np.zeros(shape=(l, 1024, 1024))\n",
        "    for i in range(l):\n",
        "        #im = Image.open('C:/Users/Timbo/Documents/Projet/multi/data/earth_mask/'+x_list[i]+'.jpg')\n",
        "        im = cv2.imread('./earth_mask/'+x_list[i]+'.jpg')\n",
        "        im = cv2.cvtColor(im, cv2.COLOR_BGR2GRAY)\n",
        "        images[i] = np.asarray(im).astype('float32')\n",
        "        images[i] = images[i]/255\n",
        "        #print(images[i])\n",
        "        #im = Image.fromarray(images[i].astype('uint8'), 'L')\n",
        "        #im.show()\n",
        "    return x_list, y_list, images"
      ],
      "metadata": {
        "id": "ft0AwkGqaeya"
      },
      "execution_count": 4,
      "outputs": []
    },
    {
      "cell_type": "code",
      "source": [
        "def build_model(com):\n",
        "\n",
        "    model = models.Sequential()\n",
        "    model.add(layers.Conv2D(32, (3, 3), activation='relu', input_shape=(1024, 1024, 1)))\n",
        "    model.add(layers.MaxPooling2D((2, 2)))\n",
        "    model.add(layers.Conv2D(64, (3, 3), activation='relu'))\n",
        "    model.add(layers.MaxPooling2D((2, 2)))\n",
        "    model.add(layers.Conv2D(64, (3, 3), activation='relu'))\n",
        "    model.add(layers.Flatten())\n",
        "    model.add(layers.Dropout(0.5))\n",
        "    model.add(layers.Dense(64, activation='relu'))\n",
        "    model.add(layers.Dense(16, activation='relu'))\n",
        "    model.add(layers.Dense(1, activation=None))\n",
        "\n",
        "    if com == True:\n",
        "      model.compile(\n",
        "          optimizer='rmsprop',\n",
        "          loss='mse',\n",
        "          metrics=[metrics.MeanAbsoluteError(), metrics.RootMeanSquaredError()])\n",
        "    model.summary()\n",
        "\n",
        "    return model"
      ],
      "metadata": {
        "id": "y_sM6XIqaFX4"
      },
      "execution_count": 5,
      "outputs": []
    },
    {
      "cell_type": "code",
      "source": [
        "def train_model(model):\n",
        "  save_at = \"macbeth.hdf5\"\n",
        "  save_best2 = ModelCheckpoint (save_at, monitor='val_mean_absolute_error', verbose=0, save_best_only=True, save_weights_only=False, mode='max')\n",
        "\n",
        "  ifn, labels, images = get_data()\n",
        "  train_images = images[:25]\n",
        "  train_labels = labels[:25]\n",
        "  test_images = images[25:]\n",
        "  test_labels = labels[25:]\n",
        "\n",
        "  # Run model and get metrics for each epoch\n",
        "  history = model.fit(\n",
        "      train_images,\n",
        "      train_labels,\n",
        "      callbacks=[\n",
        "          #EarlyStopping(monitor='val_mean_absolute_error', patience=5, restore_best_weights=True)\n",
        "          save_best2\n",
        "          ],\n",
        "      epochs=5,\n",
        "      batch_size=1,\n",
        "      validation_data=(test_images, test_labels)\n",
        "      )\n",
        "\n",
        "  return history"
      ],
      "metadata": {
        "id": "08cN1rk_aV6T"
      },
      "execution_count": 6,
      "outputs": []
    },
    {
      "cell_type": "code",
      "source": [
        "def loss_plot(history):\n",
        "    plt.plot(history.history['loss'])\n",
        "    plt.plot(history.history['val_loss'])\n",
        "    plt.title('model loss')\n",
        "    plt.ylabel('loss')\n",
        "    plt.xlabel('epoch')\n",
        "    plt.legend(['train', 'val'], loc='upper left')\n",
        "    plt.show()"
      ],
      "metadata": {
        "id": "KB61bPxFcjVa"
      },
      "execution_count": 7,
      "outputs": []
    },
    {
      "cell_type": "code",
      "source": [
        "def reformat_mask_for_pred(img):\n",
        "  im = cv2.imread(img)\n",
        "  im = cv2.cvtColor(im, cv2.COLOR_BGR2GRAY)\n",
        "  im = cv2.resize(im,(1024, 1024))     # resize image to match model's expected sizing\n",
        "  im = im.reshape(1,1024,1024,1)\n",
        "  x = np.asarray(im).astype('float32')\n",
        "  #im = Image.open('./mask.jpg')\n",
        "  #im = im.convert('L')\n",
        "  x = np.zeros(shape=(1, 1024, 1024))\n",
        "  x = np.asarray(im).astype('float32')\n",
        "  x = x/255\n",
        "  return x"
      ],
      "metadata": {
        "id": "lW1GrySrrxly"
      },
      "execution_count": 16,
      "outputs": []
    },
    {
      "cell_type": "code",
      "source": [
        "if __name__ == \"__main__\":\n",
        "    print('vowlr')\n",
        "    tf.keras.backend.clear_session()\n",
        "\n",
        "    model = build_model(True)\n",
        "    model.load_weights('macbeth.hdf5')\n",
        "    history = train_model(model)\n",
        "    loss_plot(history)\n",
        "\n",
        "\n",
        ""
      ],
      "metadata": {
        "colab": {
          "base_uri": "https://localhost:8080/",
          "height": 1000
        },
        "id": "qnXAC2B8dLPz",
        "outputId": "c14e99f8-d061-4a01-aa09-4affb3aecd8d"
      },
      "execution_count": 9,
      "outputs": [
        {
          "output_type": "stream",
          "name": "stdout",
          "text": [
            "vowlr\n",
            "Model: \"sequential\"\n",
            "_________________________________________________________________\n",
            " Layer (type)                Output Shape              Param #   \n",
            "=================================================================\n",
            " conv2d (Conv2D)             (None, 1022, 1022, 32)    320       \n",
            "                                                                 \n",
            " max_pooling2d (MaxPooling2  (None, 511, 511, 32)      0         \n",
            " D)                                                              \n",
            "                                                                 \n",
            " conv2d_1 (Conv2D)           (None, 509, 509, 64)      18496     \n",
            "                                                                 \n",
            " max_pooling2d_1 (MaxPoolin  (None, 254, 254, 64)      0         \n",
            " g2D)                                                            \n",
            "                                                                 \n",
            " conv2d_2 (Conv2D)           (None, 252, 252, 64)      36928     \n",
            "                                                                 \n",
            " flatten (Flatten)           (None, 4064256)           0         \n",
            "                                                                 \n",
            " dropout (Dropout)           (None, 4064256)           0         \n",
            "                                                                 \n",
            " dense (Dense)               (None, 64)                260112448 \n",
            "                                                                 \n",
            " dense_1 (Dense)             (None, 16)                1040      \n",
            "                                                                 \n",
            " dense_2 (Dense)             (None, 1)                 17        \n",
            "                                                                 \n",
            "=================================================================\n",
            "Total params: 260169249 (992.47 MB)\n",
            "Trainable params: 260169249 (992.47 MB)\n",
            "Non-trainable params: 0 (0.00 Byte)\n",
            "_________________________________________________________________\n",
            "date?\n",
            "(30, 2)\n",
            "Epoch 1/5\n",
            "25/25 [==============================] - ETA: 0s - loss: 2306.1460 - mean_absolute_error: 42.7319 - root_mean_squared_error: 48.0223"
          ]
        },
        {
          "output_type": "stream",
          "name": "stderr",
          "text": [
            "/usr/local/lib/python3.10/dist-packages/keras/src/engine/training.py:3103: UserWarning: You are saving your model as an HDF5 file via `model.save()`. This file format is considered legacy. We recommend using instead the native Keras format, e.g. `model.save('my_model.keras')`.\n",
            "  saving_api.save_model(\n"
          ]
        },
        {
          "output_type": "stream",
          "name": "stdout",
          "text": [
            "\b\b\b\b\b\b\b\b\b\b\b\b\b\b\b\b\b\b\b\b\b\b\b\b\b\b\b\b\b\b\b\b\b\b\b\b\b\b\b\b\b\b\b\b\b\b\b\b\b\b\b\b\b\b\b\b\b\b\b\b\b\b\b\b\b\b\b\b\b\b\b\b\b\b\b\b\b\b\b\b\b\b\b\b\b\b\b\b\b\b\b\b\b\b\b\b\b\b\b\b\b\b\b\b\b\b\b\b\b\b\b\b\b\b\b\b\b\b\b\b\b\b\b\b\b\b\b\b\b\b\b\b\r25/25 [==============================] - 25s 884ms/step - loss: 2306.1460 - mean_absolute_error: 42.7319 - root_mean_squared_error: 48.0223 - val_loss: 123.3835 - val_mean_absolute_error: 9.8404 - val_root_mean_squared_error: 11.1078\n",
            "Epoch 2/5\n",
            "25/25 [==============================] - 13s 539ms/step - loss: 2219.4954 - mean_absolute_error: 37.7348 - root_mean_squared_error: 47.1115 - val_loss: 2373.8721 - val_mean_absolute_error: 47.8104 - val_root_mean_squared_error: 48.7224\n",
            "Epoch 3/5\n",
            "25/25 [==============================] - 2s 84ms/step - loss: 1660.8651 - mean_absolute_error: 32.9910 - root_mean_squared_error: 40.7537 - val_loss: 1439.1672 - val_mean_absolute_error: 35.2230 - val_root_mean_squared_error: 37.9364\n",
            "Epoch 4/5\n",
            "25/25 [==============================] - 2s 78ms/step - loss: 933.1580 - mean_absolute_error: 24.2195 - root_mean_squared_error: 30.5476 - val_loss: 1737.8500 - val_mean_absolute_error: 40.2008 - val_root_mean_squared_error: 41.6875\n",
            "Epoch 5/5\n",
            "25/25 [==============================] - 20s 816ms/step - loss: 808.1064 - mean_absolute_error: 22.7169 - root_mean_squared_error: 28.4272 - val_loss: 5504.5225 - val_mean_absolute_error: 73.4414 - val_root_mean_squared_error: 74.1925\n"
          ]
        },
        {
          "output_type": "display_data",
          "data": {
            "text/plain": [
              "<Figure size 640x480 with 1 Axes>"
            ],
            "image/png": "[encoded data removed]"
          },
          "metadata": {}
        }
      ]
    },
    {
      "cell_type": "code",
      "source": [
        "if __name__ == \"__main__\":\n",
        "  print('vowlr')\n",
        "  tf.keras.backend.clear_session()\n",
        "\n",
        "  model = build_model(True)\n",
        "  model.load_weights('macbeth.hdf5')\n",
        "\n",
        "  x = reformat_mask_for_pred('./mask.jpg')\n",
        "  y = model.predict(x)\n",
        "  print(y)"
      ],
      "metadata": {
        "colab": {
          "base_uri": "https://localhost:8080/",
          "height": 407
        },
        "id": "jhaw_UVCqIMj",
        "outputId": "8056ac15-7a92-4cc5-f321-f732be7b8029"
      },
      "execution_count": 17,
      "outputs": [
        {
          "output_type": "stream",
          "name": "stdout",
          "text": [
            "vowlr\n"
          ]
        },
        {
          "output_type": "error",
          "ename": "ResourceExhaustedError",
          "evalue": "{{function_node __wrapped__AddV2_device_/job:localhost/replica:0/task:0/device:GPU:0}} failed to allocate memory [Op:AddV2] name: ",
          "traceback": [
            "\u001b[0;31m---------------------------------------------------------------------------\u001b[0m",
            "\u001b[0;31mResourceExhaustedError\u001b[0m                    Traceback (most recent call last)",
            "\u001b[0;32m<ipython-input-17-da245040c2da>\u001b[0m in \u001b[0;36m<cell line: 1>\u001b[0;34m()\u001b[0m\n\u001b[1;32m      3\u001b[0m   \u001b[0mtf\u001b[0m\u001b[0;34m.\u001b[0m\u001b[0mkeras\u001b[0m\u001b[0;34m.\u001b[0m\u001b[0mbackend\u001b[0m\u001b[0;34m.\u001b[0m\u001b[0mclear_session\u001b[0m\u001b[0;34m(\u001b[0m\u001b[0;34m)\u001b[0m\u001b[0;34m\u001b[0m\u001b[0;34m\u001b[0m\u001b[0m\n\u001b[1;32m      4\u001b[0m \u001b[0;34m\u001b[0m\u001b[0m\n\u001b[0;32m----> 5\u001b[0;31m   \u001b[0mmodel\u001b[0m \u001b[0;34m=\u001b[0m \u001b[0mbuild_model\u001b[0m\u001b[0;34m(\u001b[0m\u001b[0;32mTrue\u001b[0m\u001b[0;34m)\u001b[0m\u001b[0;34m\u001b[0m\u001b[0;34m\u001b[0m\u001b[0m\n\u001b[0m\u001b[1;32m      6\u001b[0m   \u001b[0mmodel\u001b[0m\u001b[0;34m.\u001b[0m\u001b[0mload_weights\u001b[0m\u001b[0;34m(\u001b[0m\u001b[0;34m'macbeth.hdf5'\u001b[0m\u001b[0;34m)\u001b[0m\u001b[0;34m\u001b[0m\u001b[0;34m\u001b[0m\u001b[0m\n\u001b[1;32m      7\u001b[0m \u001b[0;34m\u001b[0m\u001b[0m\n",
            "\u001b[0;32m<ipython-input-5-1190535fceaf>\u001b[0m in \u001b[0;36mbuild_model\u001b[0;34m(com)\u001b[0m\n\u001b[1;32m      9\u001b[0m     \u001b[0mmodel\u001b[0m\u001b[0;34m.\u001b[0m\u001b[0madd\u001b[0m\u001b[0;34m(\u001b[0m\u001b[0mlayers\u001b[0m\u001b[0;34m.\u001b[0m\u001b[0mFlatten\u001b[0m\u001b[0;34m(\u001b[0m\u001b[0;34m)\u001b[0m\u001b[0;34m)\u001b[0m\u001b[0;34m\u001b[0m\u001b[0;34m\u001b[0m\u001b[0m\n\u001b[1;32m     10\u001b[0m     \u001b[0mmodel\u001b[0m\u001b[0;34m.\u001b[0m\u001b[0madd\u001b[0m\u001b[0;34m(\u001b[0m\u001b[0mlayers\u001b[0m\u001b[0;34m.\u001b[0m\u001b[0mDropout\u001b[0m\u001b[0;34m(\u001b[0m\u001b[0;36m0.5\u001b[0m\u001b[0;34m)\u001b[0m\u001b[0;34m)\u001b[0m\u001b[0;34m\u001b[0m\u001b[0;34m\u001b[0m\u001b[0m\n\u001b[0;32m---> 11\u001b[0;31m     \u001b[0mmodel\u001b[0m\u001b[0;34m.\u001b[0m\u001b[0madd\u001b[0m\u001b[0;34m(\u001b[0m\u001b[0mlayers\u001b[0m\u001b[0;34m.\u001b[0m\u001b[0mDense\u001b[0m\u001b[0;34m(\u001b[0m\u001b[0;36m64\u001b[0m\u001b[0;34m,\u001b[0m \u001b[0mactivation\u001b[0m\u001b[0;34m=\u001b[0m\u001b[0;34m'relu'\u001b[0m\u001b[0;34m)\u001b[0m\u001b[0;34m)\u001b[0m\u001b[0;34m\u001b[0m\u001b[0;34m\u001b[0m\u001b[0m\n\u001b[0m\u001b[1;32m     12\u001b[0m     \u001b[0mmodel\u001b[0m\u001b[0;34m.\u001b[0m\u001b[0madd\u001b[0m\u001b[0;34m(\u001b[0m\u001b[0mlayers\u001b[0m\u001b[0;34m.\u001b[0m\u001b[0mDense\u001b[0m\u001b[0;34m(\u001b[0m\u001b[0;36m16\u001b[0m\u001b[0;34m,\u001b[0m \u001b[0mactivation\u001b[0m\u001b[0;34m=\u001b[0m\u001b[0;34m'relu'\u001b[0m\u001b[0;34m)\u001b[0m\u001b[0;34m)\u001b[0m\u001b[0;34m\u001b[0m\u001b[0;34m\u001b[0m\u001b[0m\n\u001b[1;32m     13\u001b[0m     \u001b[0mmodel\u001b[0m\u001b[0;34m.\u001b[0m\u001b[0madd\u001b[0m\u001b[0;34m(\u001b[0m\u001b[0mlayers\u001b[0m\u001b[0;34m.\u001b[0m\u001b[0mDense\u001b[0m\u001b[0;34m(\u001b[0m\u001b[0;36m1\u001b[0m\u001b[0;34m,\u001b[0m \u001b[0mactivation\u001b[0m\u001b[0;34m=\u001b[0m\u001b[0;32mNone\u001b[0m\u001b[0;34m)\u001b[0m\u001b[0;34m)\u001b[0m\u001b[0;34m\u001b[0m\u001b[0;34m\u001b[0m\u001b[0m\n",
            "\u001b[0;32m/usr/local/lib/python3.10/dist-packages/tensorflow/python/trackable/base.py\u001b[0m in \u001b[0;36m_method_wrapper\u001b[0;34m(self, *args, **kwargs)\u001b[0m\n\u001b[1;32m    202\u001b[0m     \u001b[0mself\u001b[0m\u001b[0;34m.\u001b[0m\u001b[0m_self_setattr_tracking\u001b[0m \u001b[0;34m=\u001b[0m \u001b[0;32mFalse\u001b[0m  \u001b[0;31m# pylint: disable=protected-access\u001b[0m\u001b[0;34m\u001b[0m\u001b[0;34m\u001b[0m\u001b[0m\n\u001b[1;32m    203\u001b[0m     \u001b[0;32mtry\u001b[0m\u001b[0;34m:\u001b[0m\u001b[0;34m\u001b[0m\u001b[0;34m\u001b[0m\u001b[0m\n\u001b[0;32m--> 204\u001b[0;31m       \u001b[0mresult\u001b[0m \u001b[0;34m=\u001b[0m \u001b[0mmethod\u001b[0m\u001b[0;34m(\u001b[0m\u001b[0mself\u001b[0m\u001b[0;34m,\u001b[0m \u001b[0;34m*\u001b[0m\u001b[0margs\u001b[0m\u001b[0;34m,\u001b[0m \u001b[0;34m**\u001b[0m\u001b[0mkwargs\u001b[0m\u001b[0;34m)\u001b[0m\u001b[0;34m\u001b[0m\u001b[0;34m\u001b[0m\u001b[0m\n\u001b[0m\u001b[1;32m    205\u001b[0m     \u001b[0;32mfinally\u001b[0m\u001b[0;34m:\u001b[0m\u001b[0;34m\u001b[0m\u001b[0;34m\u001b[0m\u001b[0m\n\u001b[1;32m    206\u001b[0m       \u001b[0mself\u001b[0m\u001b[0;34m.\u001b[0m\u001b[0m_self_setattr_tracking\u001b[0m \u001b[0;34m=\u001b[0m \u001b[0mprevious_value\u001b[0m  \u001b[0;31m# pylint: disable=protected-access\u001b[0m\u001b[0;34m\u001b[0m\u001b[0;34m\u001b[0m\u001b[0m\n",
            "\u001b[0;32m/usr/local/lib/python3.10/dist-packages/keras/src/utils/traceback_utils.py\u001b[0m in \u001b[0;36merror_handler\u001b[0;34m(*args, **kwargs)\u001b[0m\n\u001b[1;32m     68\u001b[0m             \u001b[0;31m# To get the full stack trace, call:\u001b[0m\u001b[0;34m\u001b[0m\u001b[0;34m\u001b[0m\u001b[0m\n\u001b[1;32m     69\u001b[0m             \u001b[0;31m# `tf.debugging.disable_traceback_filtering()`\u001b[0m\u001b[0;34m\u001b[0m\u001b[0;34m\u001b[0m\u001b[0m\n\u001b[0;32m---> 70\u001b[0;31m             \u001b[0;32mraise\u001b[0m \u001b[0me\u001b[0m\u001b[0;34m.\u001b[0m\u001b[0mwith_traceback\u001b[0m\u001b[0;34m(\u001b[0m\u001b[0mfiltered_tb\u001b[0m\u001b[0;34m)\u001b[0m \u001b[0;32mfrom\u001b[0m \u001b[0;32mNone\u001b[0m\u001b[0;34m\u001b[0m\u001b[0;34m\u001b[0m\u001b[0m\n\u001b[0m\u001b[1;32m     71\u001b[0m         \u001b[0;32mfinally\u001b[0m\u001b[0;34m:\u001b[0m\u001b[0;34m\u001b[0m\u001b[0;34m\u001b[0m\u001b[0m\n\u001b[1;32m     72\u001b[0m             \u001b[0;32mdel\u001b[0m \u001b[0mfiltered_tb\u001b[0m\u001b[0;34m\u001b[0m\u001b[0;34m\u001b[0m\u001b[0m\n",
            "\u001b[0;32m/usr/local/lib/python3.10/dist-packages/keras/src/backend.py\u001b[0m in \u001b[0;36mrandom_uniform\u001b[0;34m(self, shape, minval, maxval, dtype, nonce)\u001b[0m\n\u001b[1;32m   2098\u001b[0m             \u001b[0;32mif\u001b[0m \u001b[0mnonce\u001b[0m\u001b[0;34m:\u001b[0m\u001b[0;34m\u001b[0m\u001b[0;34m\u001b[0m\u001b[0m\n\u001b[1;32m   2099\u001b[0m                 \u001b[0mseed\u001b[0m \u001b[0;34m=\u001b[0m \u001b[0mtf\u001b[0m\u001b[0;34m.\u001b[0m\u001b[0mrandom\u001b[0m\u001b[0;34m.\u001b[0m\u001b[0mexperimental\u001b[0m\u001b[0;34m.\u001b[0m\u001b[0mstateless_fold_in\u001b[0m\u001b[0;34m(\u001b[0m\u001b[0mseed\u001b[0m\u001b[0;34m,\u001b[0m \u001b[0mnonce\u001b[0m\u001b[0;34m)\u001b[0m\u001b[0;34m\u001b[0m\u001b[0;34m\u001b[0m\u001b[0m\n\u001b[0;32m-> 2100\u001b[0;31m             return tf.random.stateless_uniform(\n\u001b[0m\u001b[1;32m   2101\u001b[0m                 \u001b[0mshape\u001b[0m\u001b[0;34m=\u001b[0m\u001b[0mshape\u001b[0m\u001b[0;34m,\u001b[0m\u001b[0;34m\u001b[0m\u001b[0;34m\u001b[0m\u001b[0m\n\u001b[1;32m   2102\u001b[0m                 \u001b[0mminval\u001b[0m\u001b[0;34m=\u001b[0m\u001b[0mminval\u001b[0m\u001b[0;34m,\u001b[0m\u001b[0;34m\u001b[0m\u001b[0;34m\u001b[0m\u001b[0m\n",
            "\u001b[0;31mResourceExhaustedError\u001b[0m: {{function_node __wrapped__AddV2_device_/job:localhost/replica:0/task:0/device:GPU:0}} failed to allocate memory [Op:AddV2] name: "
          ]
        }
      ]
    }
  ]
}