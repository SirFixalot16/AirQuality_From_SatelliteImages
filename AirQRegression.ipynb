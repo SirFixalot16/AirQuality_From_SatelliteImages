{
  "nbformat": 4,
  "nbformat_minor": 0,
  "metadata": {
    "colab": {
      "provenance": [],
      "gpuType": "T4"
    },
    "kernelspec": {
      "name": "python3",
      "display_name": "Python 3"
    },
    "language_info": {
      "name": "python"
    },
    "accelerator": "GPU"
  },
  "cells": [
    {
      "cell_type": "code",
      "execution_count": 1,
      "metadata": {
        "id": "lgRuM1YOZ1rb"
      },
      "outputs": [],
      "source": [
        "import numpy as np\n",
        "import pandas as pd\n",
        "import seaborn as sns\n",
        "import matplotlib.pyplot as plt\n",
        "\n",
        "import tensorflow as tf\n",
        "from keras import models\n",
        "from keras import layers\n",
        "from keras import metrics\n",
        "from keras.callbacks import EarlyStopping, ModelCheckpoint\n",
        "\n",
        "import pathlib\n",
        "import cv2\n",
        "import pandas\n",
        "\n"
      ]
    },
    {
      "cell_type": "code",
      "source": [
        "from google.colab import drive\n",
        "drive.mount('/content/drive')"
      ],
      "metadata": {
        "colab": {
          "base_uri": "https://localhost:8080/"
        },
        "id": "X2SLYPHovXxX",
        "outputId": "298ef7b4-71ab-4883-a402-f7315e96bb7a"
      },
      "execution_count": 2,
      "outputs": [
        {
          "output_type": "stream",
          "name": "stdout",
          "text": [
            "Mounted at /content/drive\n"
          ]
        }
      ]
    },
    {
      "cell_type": "code",
      "source": [
        "import shutil\n",
        "shutil.copy(\"./drive/MyDrive/models/best-model.pth\", \"./models/best-model.pth\")"
      ],
      "metadata": {
        "colab": {
          "base_uri": "https://localhost:8080/",
          "height": 35
        },
        "id": "1etV9C6w2cw4",
        "outputId": "970f55c1-04ad-4419-bcdc-7f7011d79d4d"
      },
      "execution_count": null,
      "outputs": [
        {
          "output_type": "execute_result",
          "data": {
            "text/plain": [
              "'./models/best-model.pth'"
            ],
            "application/vnd.google.colaboratory.intrinsic+json": {
              "type": "string"
            }
          },
          "metadata": {},
          "execution_count": 46
        }
      ]
    },
    {
      "cell_type": "code",
      "source": [
        "print(\"Num GPUs Available: \", len(tf.config.list_physical_devices('GPU')))"
      ],
      "metadata": {
        "colab": {
          "base_uri": "https://localhost:8080/"
        },
        "id": "qRqsw5vnaKSK",
        "outputId": "e3e4c972-38af-488e-8466-a0ea498434fd"
      },
      "execution_count": 3,
      "outputs": [
        {
          "output_type": "stream",
          "name": "stdout",
          "text": [
            "Num GPUs Available:  1\n"
          ]
        }
      ]
    },
    {
      "cell_type": "code",
      "source": [
        "!ls"
      ],
      "metadata": {
        "colab": {
          "base_uri": "https://localhost:8080/"
        },
        "id": "8wxkC-kqwlR6",
        "outputId": "b0acce2a-13e5-4e32-c6ca-cf5a3994892e"
      },
      "execution_count": 22,
      "outputs": [
        {
          "output_type": "stream",
          "name": "stdout",
          "text": [
            "drive  final_mask  final_vlad  PM25.csv  sample_data  vlad.csv\n"
          ]
        }
      ]
    },
    {
      "cell_type": "code",
      "source": [
        "!unzip -n './drive/MyDrive/models/mearth.zip'"
      ],
      "metadata": {
        "colab": {
          "base_uri": "https://localhost:8080/"
        },
        "id": "_p6DRYmAaspP",
        "outputId": "6ed2ce3c-0795-4628-b3de-563ff9f91597"
      },
      "execution_count": 10,
      "outputs": [
        {
          "output_type": "stream",
          "name": "stdout",
          "text": [
            "Archive:  ./drive/MyDrive/models/mearth.zip\n",
            "  inflating: final_mask/bacninh_caoduc.png  \n",
            "  inflating: final_mask/bacninh_cho.png  \n",
            "  inflating: final_mask/bacninh_suoihoa.png  \n",
            "  inflating: final_mask/baria.png    \n",
            "  inflating: final_mask/caobang_detham.png  \n",
            "  inflating: final_mask/danang.png   \n",
            "  inflating: final_mask/danang_thachthang.png  \n",
            "  inflating: final_mask/daocathai.png  \n",
            "  inflating: final_mask/haiphong.png  \n",
            "  inflating: final_mask/haiphong_anhdung.png  \n",
            "  inflating: final_mask/haiphong_cathai.png  \n",
            "  inflating: final_mask/halong.png   \n",
            "  inflating: final_mask/hanam_trangan.png  \n",
            "  inflating: final_mask/hanoi_caugiay.png  \n",
            "  inflating: final_mask/hanoi_conhue.png  \n",
            "  inflating: final_mask/hanoi_cuanam.png  \n",
            "  inflating: final_mask/hanoi_cukhoi.png  \n",
            "  inflating: final_mask/hanoi_giathuy.png  \n",
            "  inflating: final_mask/hanoi_lienquan.png  \n",
            "  inflating: final_mask/hanoi_minhkhai.png  \n",
            "  inflating: final_mask/hanoi_ngoclam.png  \n",
            "  inflating: final_mask/hanoi_phumy.png  \n",
            "  inflating: final_mask/hanoi_quangan.png  \n",
            "  inflating: final_mask/hanoi_saison.png  \n",
            "  inflating: final_mask/hanoi_thanhcong.png  \n",
            "  inflating: final_mask/hanoi_thuongthanh.png  \n",
            "  inflating: final_mask/hanoi_trangtien.png  \n",
            "  inflating: final_mask/hanoi_trunghoa.png  \n",
            "  inflating: final_mask/hanoi_tt.socson.png  \n",
            "  inflating: final_mask/hanoi_tuhiep.png  \n",
            "  inflating: final_mask/hanoi_vanha.png  \n",
            "  inflating: final_mask/hanoi_xuandinh.png  \n",
            "  inflating: final_mask/hcm_govap.png  \n",
            "  inflating: final_mask/hcm_q1.png   \n",
            "  inflating: final_mask/hcm_q10.png  \n",
            "  inflating: final_mask/hcm_tanphu.png  \n",
            "  inflating: final_mask/hcm_thaodien.png  \n",
            "  inflating: final_mask/langson_chilang.png  \n",
            "  inflating: final_mask/laocai_baothang.png  \n",
            "  inflating: final_mask/phuquoc_nam.png  \n",
            "  inflating: final_mask/phutho_vanco.png  \n",
            "  inflating: final_mask/quangnam_thanhha.png  \n",
            "  inflating: final_mask/quangninh_camtrung.png  \n",
            "  inflating: final_mask/quangninh_giengday.png  \n",
            "  inflating: final_mask/quangninh_hoalac.png  \n",
            "  inflating: final_mask/quangninh_hongha.png  \n",
            "  inflating: final_mask/quangninh_kimson.png  \n",
            "  inflating: final_mask/quangninh_quangha.png  \n",
            "  inflating: final_mask/quangninh_thanhson.png  \n",
            "  inflating: final_mask/quangninh_uongbi.png  \n",
            "  inflating: final_mask/thuathienhue_phunhuan.png  \n",
            "  inflating: final_mask/vinhphuc_ngocthanh.png  \n",
            "  inflating: final_mask/vungtau.png  \n",
            "  inflating: final_vlad/hanoi_caugiay.png  \n",
            "  inflating: final_vlad/hanoi_conhue.png  \n",
            "  inflating: final_vlad/hanoi_cuanam.png  \n",
            "  inflating: final_vlad/hanoi_daidong.png  \n",
            "  inflating: final_vlad/hanoi_hangbai.png  \n",
            "  inflating: final_vlad/hanoi_minhkhai.png  \n",
            "  inflating: final_vlad/hanoi_ngoclam.png  \n",
            "  inflating: final_vlad/hanoi_ngocthuy.png  \n",
            "  inflating: final_vlad/hanoi_ochodua.png  \n",
            "  inflating: final_vlad/hanoi_quangan.png  \n",
            "  inflating: final_vlad/hanoi_quocoai.png  \n",
            "  inflating: final_vlad/hanoi_socson.png  \n",
            "  inflating: final_vlad/hanoi_tayho.png  \n",
            "  inflating: final_vlad/hanoi_tulien.png  \n",
            "  inflating: final_vlad/hanoi_vandien.png  \n",
            "  inflating: final_vlad/hanoi_xuandinh.png  \n",
            "  inflating: final_vlad/hanoi_xuantao.png  \n",
            "  inflating: PM25.csv                \n",
            "  inflating: vlad.csv                \n"
          ]
        }
      ]
    },
    {
      "cell_type": "code",
      "source": [
        "# Parametres\n",
        "train = pathlib.Path(r'./PM2.5.csv')\n",
        "valid = pathlib.Path(r'./vlad.csv')\n",
        "altitude = 2.4"
      ],
      "metadata": {
        "id": "6cvBtvMUaie1"
      },
      "execution_count": 27,
      "outputs": []
    },
    {
      "cell_type": "code",
      "source": [
        "def get_data():\n",
        "    print('date?')\n",
        "    dataframe1 = pandas.read_csv(train, delimiter=',', names=[\"ct\", \"airq\"])\n",
        "    dataframe2 = pandas.read_csv(valid, delimiter=',', names=[\"ct\", \"airq\"])\n",
        "    print(dataframe1)\n",
        "    print(dataframe2)\n",
        "    l_train = np.asarray(dataframe1)\n",
        "    l_valid = np.asarray(dataframe2)\n",
        "    print(l_train.shape, l_valid.shape)\n",
        "    x_train, y_train = l_train[:, 0], l_train[:, 1]\n",
        "    x_valid, y_valid = l_valid[:, 0], l_valid[:, 1]\n",
        "    y_train = y_train.astype('float32')\n",
        "    y_valid = y_valid.astype('float32')\n",
        "    images_train = np.zeros(shape=(len(l_train), 512, 512, 3))\n",
        "    images_valid = np.zeros(shape=(len(l_valid), 512, 512, 3))\n",
        "    for i in range(len(l_train)):\n",
        "        print('./final_mask/'+x_train[i]+'.png')\n",
        "        im = cv2.imread('./final_mask/'+x_train[i]+'.png')\n",
        "        im = cv2.cvtColor(im, cv2.COLOR_BGR2RGB)\n",
        "        im = cv2.resize(im, (512, 512), interpolation = cv2.INTER_LANCZOS4)\n",
        "        #im = cv2.cvtColor(im, cv2.COLOR_BGR2GRAY)\n",
        "        images_train[i] = np.asarray(im).astype('float32')\n",
        "        #images[i] = images[i]/255\n",
        "    for i in range(len(l_valid)):\n",
        "        im = cv2.imread('./final_vlad/'+x_valid[i]+'.png')\n",
        "        im = cv2.cvtColor(im, cv2.COLOR_BGR2RGB)\n",
        "        im = cv2.resize(im, (512, 512), interpolation = cv2.INTER_LANCZOS4)\n",
        "        #im = cv2.cvtColor(im, cv2.COLOR_BGR2GRAY)\n",
        "        images_valid[i] = np.asarray(im).astype('float32')\n",
        "    return images_train, y_train, images_valid, y_valid"
      ],
      "metadata": {
        "id": "ft0AwkGqaeya"
      },
      "execution_count": 28,
      "outputs": []
    },
    {
      "cell_type": "code",
      "source": [
        "def build_model(com):\n",
        "\n",
        "    model = models.Sequential()\n",
        "    model.add(layers.Conv2D(32, (3, 3), activation='relu', input_shape=(512, 512, 3)))\n",
        "    model.add(layers.MaxPooling2D((2, 2)))\n",
        "    model.add(layers.Conv2D(64, (3, 3), activation='relu'))\n",
        "    model.add(layers.MaxPooling2D((2, 2)))\n",
        "    model.add(layers.Conv2D(64, (3, 3), activation='relu'))\n",
        "    model.add(layers.Flatten())\n",
        "    model.add(layers.Dropout(0.5))\n",
        "    model.add(layers.Dense(64, activation='relu'))\n",
        "    model.add(layers.Dense(16, activation='relu'))\n",
        "    model.add(layers.Dense(1, activation=None))\n",
        "\n",
        "    if com == True:\n",
        "      model.compile(\n",
        "          optimizer='rmsprop',\n",
        "          loss='mse',\n",
        "          metrics=[metrics.MeanAbsoluteError(), metrics.RootMeanSquaredError()])\n",
        "    model.summary()\n",
        "\n",
        "    return model"
      ],
      "metadata": {
        "id": "y_sM6XIqaFX4"
      },
      "execution_count": 7,
      "outputs": []
    },
    {
      "cell_type": "code",
      "source": [
        "def train_model(model):\n",
        "  save_at = \"macbeth.hdf5\"\n",
        "  save_best2 = ModelCheckpoint (save_at, monitor='val_mean_absolute_error', verbose=0, save_best_only=True, save_weights_only=False, mode='max')\n",
        "\n",
        "  x_train, y_train, x_test, y_test = get_data()\n",
        "\n",
        "\n",
        "  # Run model and get metrics for each epoch\n",
        "  history = model.fit(\n",
        "      x_train,\n",
        "      y_train,\n",
        "      callbacks=[\n",
        "          #EarlyStopping(monitor='val_mean_absolute_error', patience=5, restore_best_weights=True)\n",
        "          save_best2\n",
        "          ],\n",
        "      epochs=50,\n",
        "      batch_size=1,\n",
        "      validation_data=(x_test, y_test)\n",
        "      )\n",
        "\n",
        "  return history"
      ],
      "metadata": {
        "id": "08cN1rk_aV6T"
      },
      "execution_count": 37,
      "outputs": []
    },
    {
      "cell_type": "code",
      "source": [
        "def loss_plot(history):\n",
        "    plt.plot(history.history['loss'][3:])\n",
        "    plt.plot(history.history['val_loss'][3:])\n",
        "    plt.title('model loss')\n",
        "    plt.ylabel('loss')\n",
        "    plt.xlabel('epoch')\n",
        "    plt.legend(['train', 'val'], loc='upper left')\n",
        "    plt.show()"
      ],
      "metadata": {
        "id": "KB61bPxFcjVa"
      },
      "execution_count": 36,
      "outputs": []
    },
    {
      "cell_type": "code",
      "source": [
        "def reformat_mask_for_pred(img):\n",
        "  im = cv2.imread(img)\n",
        "  im = cv2.cvtColor(im, cv2.COLOR_BGR2RGB)\n",
        "  #print(im)\n",
        "  im = cv2.resize(im, (512, 512), interpolation = cv2.INTER_LANCZOS4)     # resize image to match model's expected sizing\n",
        "  #print(im)\n",
        "  im = im.reshape(1,512,512,3)\n",
        "  #print(im)\n",
        "  x = np.asarray(im).astype('float32')\n",
        "  #print(x)\n",
        "  #im = Image.open('./mask.jpg')\n",
        "  #im = im.convert('L')\n",
        "  x = np.zeros(shape=(1, 512, 512, 3))\n",
        "  x = np.asarray(im).astype('float32')\n",
        "  #print(x)\n",
        "  #x = x/255\n",
        "  return x"
      ],
      "metadata": {
        "id": "lW1GrySrrxly"
      },
      "execution_count": 49,
      "outputs": []
    },
    {
      "cell_type": "code",
      "source": [
        "from fastai.vision.all import *"
      ],
      "metadata": {
        "id": "xYCKhprN796T"
      },
      "execution_count": null,
      "outputs": []
    },
    {
      "cell_type": "code",
      "source": [
        "def build_model1(model_path):\n",
        "  from tqdm import tqdm\n",
        "  import pathlib\n",
        "  plt = platform.system()\n",
        "  print(plt)\n",
        "  if plt == 'Linux': pathlib.WindowsPath = pathlib.PosixPath\n",
        "  torch.cuda.empty_cache()\n",
        "\n",
        "  #model = unet_learner(arch=xresnet34)\n",
        "  model = load_learner(model_path+r'berlin3.pkl', cpu=False)\n",
        "  model.load('best-model')\n",
        "  return model"
      ],
      "metadata": {
        "colab": {
          "base_uri": "https://localhost:8080/",
          "height": 140
        },
        "id": "Kg8s4xN_wwOb",
        "outputId": "510faa83-d6a8-470b-ee44-94ed51ce827a"
      },
      "execution_count": null,
      "outputs": [
        {
          "output_type": "error",
          "ename": "SyntaxError",
          "evalue": "import * only allowed at module level (<ipython-input-11-f3d0743f2f33>, line 2)",
          "traceback": [
            "\u001b[0;36m  File \u001b[0;32m\"<ipython-input-11-f3d0743f2f33>\"\u001b[0;36m, line \u001b[0;32m2\u001b[0m\n\u001b[0;31m    from fastai.vision.all import *\u001b[0m\n\u001b[0m                                  ^\u001b[0m\n\u001b[0;31mSyntaxError\u001b[0m\u001b[0;31m:\u001b[0m import * only allowed at module level\n"
          ]
        }
      ]
    },
    {
      "cell_type": "code",
      "source": [
        "from PIL import Image\n",
        "\n",
        "def generate_pred_model1(model):\n",
        "  pics = os.listdir(r'./earth/')\n",
        "  for img in pics:\n",
        "    torch.cuda.empty_cache()\n",
        "    im = Image.open(r'./earth/'+img)\n",
        "    im.thumbnail((3000, 3000), Image.Resampling.LANCZOS)\n",
        "    m = model.predict(im)\n",
        "    m = to_image(m[2][1].repeat(3,1,1))\n",
        "    pathsave = r'./earth_pics/'+img\n",
        "    m.save(pathsave, \"JPEG\")"
      ],
      "metadata": {
        "id": "08sfTGalxN5O"
      },
      "execution_count": null,
      "outputs": []
    },
    {
      "cell_type": "code",
      "source": [
        "def get_image_tiles_NEW2(path:Path) -> L:\n",
        "   files = L()\n",
        "   files = get_image_files(path=path, folders='im_tiles_ds2')\n",
        "   return files\n",
        "\n",
        "def get_y_fn_NEW2(fn:Path) -> str:\n",
        "  #print(str(fn).replace('im_tiles', 'gt_tiles'))\n",
        "  return str(fn).replace('im_tiles', 'gt_tiles')\n",
        "\n",
        "def get_y_NEW2(fn:Path) -> PILMask:\n",
        "   fn = get_y_fn_NEW2(fn)\n",
        "   msk = np.array(PILMask.create(fn))\n",
        "   #print(msk)\n",
        "   #msk[msk==255] = 1\n",
        "   msk = msk / 255\n",
        "   #print(msk)\n",
        "   return PILMask.create(msk)"
      ],
      "metadata": {
        "id": "5E_owlXn1BxH"
      },
      "execution_count": null,
      "outputs": []
    },
    {
      "cell_type": "code",
      "source": [
        "if __name__ == \"__main__\":\n",
        "    print('vowlr')\n",
        "    tf.keras.backend.clear_session()\n",
        "\n",
        "    model1path = './drive/MyDrive/models/'\n",
        "\n",
        "    #model1 = build_model1(model1path)\n",
        "    #generate_pred_model1(model1)\n",
        "\n",
        "    #model = build_model(True)\n",
        "    #model.load_weights('macbeth.hdf5')\n",
        "    #history = train_model(model)\n",
        "    #loss_plot(history)\n",
        "\n",
        "    mode = build_model(True)\n",
        "    his = train_model(mode)\n",
        "    loss_plot(his)"
      ],
      "metadata": {
        "colab": {
          "base_uri": "https://localhost:8080/",
          "height": 1000
        },
        "id": "qnXAC2B8dLPz",
        "outputId": "23deca05-3229-4934-b57e-2ef1a2168a48"
      },
      "execution_count": 38,
      "outputs": [
        {
          "output_type": "stream",
          "name": "stdout",
          "text": [
            "vowlr\n",
            "Model: \"sequential\"\n",
            "_________________________________________________________________\n",
            " Layer (type)                Output Shape              Param #   \n",
            "=================================================================\n",
            " conv2d (Conv2D)             (None, 510, 510, 32)      896       \n",
            "                                                                 \n",
            " max_pooling2d (MaxPooling2  (None, 255, 255, 32)      0         \n",
            " D)                                                              \n",
            "                                                                 \n",
            " conv2d_1 (Conv2D)           (None, 253, 253, 64)      18496     \n",
            "                                                                 \n",
            " max_pooling2d_1 (MaxPoolin  (None, 126, 126, 64)      0         \n",
            " g2D)                                                            \n",
            "                                                                 \n",
            " conv2d_2 (Conv2D)           (None, 124, 124, 64)      36928     \n",
            "                                                                 \n",
            " flatten (Flatten)           (None, 984064)            0         \n",
            "                                                                 \n",
            " dropout (Dropout)           (None, 984064)            0         \n",
            "                                                                 \n",
            " dense (Dense)               (None, 64)                62980160  \n",
            "                                                                 \n",
            " dense_1 (Dense)             (None, 16)                1040      \n",
            "                                                                 \n",
            " dense_2 (Dense)             (None, 1)                 17        \n",
            "                                                                 \n",
            "=================================================================\n",
            "Total params: 63037537 (240.47 MB)\n",
            "Trainable params: 63037537 (240.47 MB)\n",
            "Non-trainable params: 0 (0.00 Byte)\n",
            "_________________________________________________________________\n",
            "date?\n",
            "                       ct  airq\n",
            "0           hanoi_quangan    79\n",
            "1            hanoi_conhue    51\n",
            "2          hanoi_xuandinh    58\n",
            "3            hanoi_cuanam    72\n",
            "4         hanoi_trangtien    43\n",
            "5         hanoi_thanhcong    35\n",
            "6          hanoi_trunghoa    29\n",
            "7           hanoi_caugiay    29\n",
            "8             hanoi_phumy    15\n",
            "9          hanoi_minhkhai    19\n",
            "10          hanoi_ngoclam    50\n",
            "11          hanoi_giathuy    45\n",
            "12      hanoi_thuongthanh    46\n",
            "13           hanoi_cukhoi    61\n",
            "14           hanoi_tuhiep    37\n",
            "15           hanoi_saison    32\n",
            "16         hanoi_lienquan    23\n",
            "17        hanoi_tt.socson    32\n",
            "18            hanoi_vanha    49\n",
            "19           phutho_vanco    36\n",
            "20     vinhphuc_ngocthanh    13\n",
            "21            bacninh_cho    28\n",
            "22        bacninh_suoihoa    31\n",
            "23         bacninh_caoduc    73\n",
            "24          hanam_trangan    66\n",
            "25       quangninh_kimson    18\n",
            "26     quangninh_thanhson    25\n",
            "27     quangninh_camtrung    24\n",
            "28      quangninh_quangha     5\n",
            "29       quangninh_hoalac     9\n",
            "30     quangninh_giengday    20\n",
            "31       quangninh_hongha    18\n",
            "32       haiphong_anhdung    41\n",
            "33        haiphong_cathai    26\n",
            "34        langson_chilang    56\n",
            "35         caobang_detham     4\n",
            "36        laocai_baothang    37\n",
            "37  thuathienhue_phunhuan    12\n",
            "38      danang_thachthang    11\n",
            "39       quangnam_thanhha    38\n",
            "40                 hcm_q1   146\n",
            "41                hcm_q10    61\n",
            "42           hcm_thaodien   116\n",
            "43             hcm_tanphu    74\n",
            "44              hcm_govap   151\n",
            "45                 danang    62\n",
            "46       quangninh_uongbi    67\n",
            "47               haiphong   146\n",
            "48                 halong    79\n",
            "49              daocathai   112\n",
            "50                  baria    75\n",
            "51                vungtau    64\n",
            "52            phuquoc_nam    80\n",
            "                ct  airq\n",
            "0     hanoi_tulien   108\n",
            "1    hanoi_quangan   160\n",
            "2    hanoi_xuantao    97\n",
            "3   hanoi_xuandinh   173\n",
            "4     hanoi_conhue   149\n",
            "5    hanoi_caugiay   155\n",
            "6    hanoi_ochodua   162\n",
            "7     hanoi_cuanam   170\n",
            "8    hanoi_hangbai   152\n",
            "9    hanoi_ngoclam   163\n",
            "10  hanoi_ngocthuy   165\n",
            "11  hanoi_minhkhai    63\n",
            "12     hanoi_tayho   171\n",
            "13   hanoi_vandien   132\n",
            "14    hanoi_socson    66\n",
            "15   hanoi_daidong   167\n",
            "16   hanoi_quocoai   108\n",
            "(53, 2) (17, 2)\n",
            "./final_mask/hanoi_quangan.png\n",
            "./final_mask/hanoi_conhue.png\n",
            "./final_mask/hanoi_xuandinh.png\n",
            "./final_mask/hanoi_cuanam.png\n",
            "./final_mask/hanoi_trangtien.png\n",
            "./final_mask/hanoi_thanhcong.png\n",
            "./final_mask/hanoi_trunghoa.png\n",
            "./final_mask/hanoi_caugiay.png\n",
            "./final_mask/hanoi_phumy.png\n",
            "./final_mask/hanoi_minhkhai.png\n",
            "./final_mask/hanoi_ngoclam.png\n",
            "./final_mask/hanoi_giathuy.png\n",
            "./final_mask/hanoi_thuongthanh.png\n",
            "./final_mask/hanoi_cukhoi.png\n",
            "./final_mask/hanoi_tuhiep.png\n",
            "./final_mask/hanoi_saison.png\n",
            "./final_mask/hanoi_lienquan.png\n",
            "./final_mask/hanoi_tt.socson.png\n",
            "./final_mask/hanoi_vanha.png\n",
            "./final_mask/phutho_vanco.png\n",
            "./final_mask/vinhphuc_ngocthanh.png\n",
            "./final_mask/bacninh_cho.png\n",
            "./final_mask/bacninh_suoihoa.png\n",
            "./final_mask/bacninh_caoduc.png\n",
            "./final_mask/hanam_trangan.png\n",
            "./final_mask/quangninh_kimson.png\n",
            "./final_mask/quangninh_thanhson.png\n",
            "./final_mask/quangninh_camtrung.png\n",
            "./final_mask/quangninh_quangha.png\n",
            "./final_mask/quangninh_hoalac.png\n",
            "./final_mask/quangninh_giengday.png\n",
            "./final_mask/quangninh_hongha.png\n",
            "./final_mask/haiphong_anhdung.png\n",
            "./final_mask/haiphong_cathai.png\n",
            "./final_mask/langson_chilang.png\n",
            "./final_mask/caobang_detham.png\n",
            "./final_mask/laocai_baothang.png\n",
            "./final_mask/thuathienhue_phunhuan.png\n",
            "./final_mask/danang_thachthang.png\n",
            "./final_mask/quangnam_thanhha.png\n",
            "./final_mask/hcm_q1.png\n",
            "./final_mask/hcm_q10.png\n",
            "./final_mask/hcm_thaodien.png\n",
            "./final_mask/hcm_tanphu.png\n",
            "./final_mask/hcm_govap.png\n",
            "./final_mask/danang.png\n",
            "./final_mask/quangninh_uongbi.png\n",
            "./final_mask/haiphong.png\n",
            "./final_mask/halong.png\n",
            "./final_mask/daocathai.png\n",
            "./final_mask/baria.png\n",
            "./final_mask/vungtau.png\n",
            "./final_mask/phuquoc_nam.png\n",
            "Epoch 1/50\n",
            "51/53 [===========================>..] - ETA: 0s - loss: 14897667.0000 - mean_absolute_error: 686.8742 - root_mean_squared_error: 3859.7495"
          ]
        },
        {
          "output_type": "stream",
          "name": "stderr",
          "text": [
            "/usr/local/lib/python3.10/dist-packages/keras/src/engine/training.py:3103: UserWarning: You are saving your model as an HDF5 file via `model.save()`. This file format is considered legacy. We recommend using instead the native Keras format, e.g. `model.save('my_model.keras')`.\n",
            "  saving_api.save_model(\n"
          ]
        },
        {
          "output_type": "stream",
          "name": "stdout",
          "text": [
            "\b\b\b\b\b\b\b\b\b\b\b\b\b\b\b\b\b\b\b\b\b\b\b\b\b\b\b\b\b\b\b\b\b\b\b\b\b\b\b\b\b\b\b\b\b\b\b\b\b\b\b\b\b\b\b\b\b\b\b\b\b\b\b\b\b\b\b\b\b\b\b\b\b\b\b\b\b\b\b\b\b\b\b\b\b\b\b\b\b\b\b\b\b\b\b\b\b\b\b\b\b\b\b\b\b\b\b\b\b\b\b\b\b\b\b\b\b\b\b\b\b\b\b\b\b\b\b\b\b\b\b\b\b\b\b\b\b\b\b\r53/53 [==============================] - 5s 72ms/step - loss: 14335525.0000 - mean_absolute_error: 661.9969 - root_mean_squared_error: 3786.2283 - val_loss: 10736.3281 - val_mean_absolute_error: 97.5781 - val_root_mean_squared_error: 103.6163\n",
            "Epoch 2/50\n",
            "53/53 [==============================] - 4s 71ms/step - loss: 5300.7437 - mean_absolute_error: 49.3910 - root_mean_squared_error: 72.8062 - val_loss: 14138.4648 - val_mean_absolute_error: 112.8643 - val_root_mean_squared_error: 118.9053\n",
            "Epoch 3/50\n",
            "53/53 [==============================] - 6s 109ms/step - loss: 4275.8994 - mean_absolute_error: 41.8752 - root_mean_squared_error: 65.3904 - val_loss: 15270.4922 - val_mean_absolute_error: 117.7876 - val_root_mean_squared_error: 123.5738\n",
            "Epoch 4/50\n",
            "53/53 [==============================] - 1s 24ms/step - loss: 6258.0747 - mean_absolute_error: 50.0936 - root_mean_squared_error: 79.1080 - val_loss: 13905.4736 - val_mean_absolute_error: 111.3656 - val_root_mean_squared_error: 117.9215\n",
            "Epoch 5/50\n",
            "53/53 [==============================] - 4s 69ms/step - loss: 10296.7559 - mean_absolute_error: 50.1736 - root_mean_squared_error: 101.4729 - val_loss: 16165.0830 - val_mean_absolute_error: 120.5037 - val_root_mean_squared_error: 127.1420\n",
            "Epoch 6/50\n",
            "53/53 [==============================] - 5s 97ms/step - loss: 17910.7305 - mean_absolute_error: 56.2449 - root_mean_squared_error: 133.8310 - val_loss: 16989.4727 - val_mean_absolute_error: 125.0408 - val_root_mean_squared_error: 130.3437\n",
            "Epoch 7/50\n",
            "53/53 [==============================] - 6s 107ms/step - loss: 5110.5884 - mean_absolute_error: 42.7755 - root_mean_squared_error: 71.4884 - val_loss: 18654.4043 - val_mean_absolute_error: 131.6239 - val_root_mean_squared_error: 136.5811\n",
            "Epoch 8/50\n",
            "53/53 [==============================] - 8s 160ms/step - loss: 7457.5483 - mean_absolute_error: 52.3918 - root_mean_squared_error: 86.3571 - val_loss: 44248.7109 - val_mean_absolute_error: 206.9798 - val_root_mean_squared_error: 210.3538\n",
            "Epoch 9/50\n",
            "53/53 [==============================] - 1s 24ms/step - loss: 5736.0122 - mean_absolute_error: 47.5450 - root_mean_squared_error: 75.7365 - val_loss: 13211.2070 - val_mean_absolute_error: 107.3975 - val_root_mean_squared_error: 114.9400\n",
            "Epoch 10/50\n",
            "53/53 [==============================] - 1s 23ms/step - loss: 3587.6565 - mean_absolute_error: 38.1607 - root_mean_squared_error: 59.8970 - val_loss: 16041.1172 - val_mean_absolute_error: 121.4985 - val_root_mean_squared_error: 126.6535\n",
            "Epoch 11/50\n",
            "53/53 [==============================] - 1s 21ms/step - loss: 4151.6245 - mean_absolute_error: 31.6471 - root_mean_squared_error: 64.4331 - val_loss: 3927.8584 - val_mean_absolute_error: 54.0882 - val_root_mean_squared_error: 62.6726\n",
            "Epoch 12/50\n",
            "53/53 [==============================] - 1s 22ms/step - loss: 3775.5029 - mean_absolute_error: 38.5897 - root_mean_squared_error: 61.4451 - val_loss: 13390.2354 - val_mean_absolute_error: 109.4121 - val_root_mean_squared_error: 115.7162\n",
            "Epoch 13/50\n",
            "53/53 [==============================] - 1s 24ms/step - loss: 1315.9011 - mean_absolute_error: 26.4242 - root_mean_squared_error: 36.2754 - val_loss: 5327.8594 - val_mean_absolute_error: 65.4756 - val_root_mean_squared_error: 72.9922\n",
            "Epoch 14/50\n",
            "53/53 [==============================] - 1s 24ms/step - loss: 1201.1943 - mean_absolute_error: 24.0586 - root_mean_squared_error: 34.6582 - val_loss: 10770.1299 - val_mean_absolute_error: 97.2044 - val_root_mean_squared_error: 103.7792\n",
            "Epoch 15/50\n",
            "53/53 [==============================] - 1s 24ms/step - loss: 2020.5989 - mean_absolute_error: 30.6009 - root_mean_squared_error: 44.9511 - val_loss: 11558.3271 - val_mean_absolute_error: 100.9014 - val_root_mean_squared_error: 107.5097\n",
            "Epoch 16/50\n",
            "53/53 [==============================] - 2s 30ms/step - loss: 889.9481 - mean_absolute_error: 22.4894 - root_mean_squared_error: 29.8320 - val_loss: 15356.2900 - val_mean_absolute_error: 118.2104 - val_root_mean_squared_error: 123.9205\n",
            "Epoch 17/50\n",
            "53/53 [==============================] - 2s 29ms/step - loss: 736.0880 - mean_absolute_error: 20.8815 - root_mean_squared_error: 27.1309 - val_loss: 13581.0518 - val_mean_absolute_error: 110.0368 - val_root_mean_squared_error: 116.5378\n",
            "Epoch 18/50\n",
            "53/53 [==============================] - 1s 21ms/step - loss: 809.7447 - mean_absolute_error: 19.8663 - root_mean_squared_error: 28.4560 - val_loss: 12408.9268 - val_mean_absolute_error: 103.7973 - val_root_mean_squared_error: 111.3954\n",
            "Epoch 19/50\n",
            "53/53 [==============================] - 1s 21ms/step - loss: 669.3036 - mean_absolute_error: 18.8753 - root_mean_squared_error: 25.8709 - val_loss: 13420.1445 - val_mean_absolute_error: 109.8875 - val_root_mean_squared_error: 115.8453\n",
            "Epoch 20/50\n",
            "53/53 [==============================] - 1s 21ms/step - loss: 392.1617 - mean_absolute_error: 16.5642 - root_mean_squared_error: 19.8031 - val_loss: 10851.0801 - val_mean_absolute_error: 97.2874 - val_root_mean_squared_error: 104.1685\n",
            "Epoch 21/50\n",
            "53/53 [==============================] - 1s 22ms/step - loss: 535.5109 - mean_absolute_error: 16.8292 - root_mean_squared_error: 23.1411 - val_loss: 15952.4873 - val_mean_absolute_error: 120.8880 - val_root_mean_squared_error: 126.3032\n",
            "Epoch 22/50\n",
            "53/53 [==============================] - 1s 23ms/step - loss: 471.3063 - mean_absolute_error: 14.9084 - root_mean_squared_error: 21.7096 - val_loss: 13171.5381 - val_mean_absolute_error: 108.7172 - val_root_mean_squared_error: 114.7673\n",
            "Epoch 23/50\n",
            "53/53 [==============================] - 1s 21ms/step - loss: 328.6758 - mean_absolute_error: 12.6547 - root_mean_squared_error: 18.1294 - val_loss: 11920.5205 - val_mean_absolute_error: 103.0453 - val_root_mean_squared_error: 109.1811\n",
            "Epoch 24/50\n",
            "53/53 [==============================] - 1s 22ms/step - loss: 258.5618 - mean_absolute_error: 12.4067 - root_mean_squared_error: 16.0799 - val_loss: 12708.6719 - val_mean_absolute_error: 106.1727 - val_root_mean_squared_error: 112.7327\n",
            "Epoch 25/50\n",
            "53/53 [==============================] - 1s 25ms/step - loss: 308.9337 - mean_absolute_error: 12.2380 - root_mean_squared_error: 17.5765 - val_loss: 14177.9414 - val_mean_absolute_error: 113.1427 - val_root_mean_squared_error: 119.0712\n",
            "Epoch 26/50\n",
            "53/53 [==============================] - 1s 25ms/step - loss: 160.8729 - mean_absolute_error: 10.1278 - root_mean_squared_error: 12.6836 - val_loss: 12574.0840 - val_mean_absolute_error: 106.0775 - val_root_mean_squared_error: 112.1342\n",
            "Epoch 27/50\n",
            "53/53 [==============================] - 1s 23ms/step - loss: 318.9225 - mean_absolute_error: 11.7251 - root_mean_squared_error: 17.8584 - val_loss: 12154.0654 - val_mean_absolute_error: 104.0841 - val_root_mean_squared_error: 110.2455\n",
            "Epoch 28/50\n",
            "53/53 [==============================] - 1s 22ms/step - loss: 323.2873 - mean_absolute_error: 11.8059 - root_mean_squared_error: 17.9802 - val_loss: 12327.7754 - val_mean_absolute_error: 104.8342 - val_root_mean_squared_error: 111.0305\n",
            "Epoch 29/50\n",
            "53/53 [==============================] - 1s 23ms/step - loss: 219.5122 - mean_absolute_error: 10.0372 - root_mean_squared_error: 14.8159 - val_loss: 12220.7607 - val_mean_absolute_error: 103.7883 - val_root_mean_squared_error: 110.5475\n",
            "Epoch 30/50\n",
            "53/53 [==============================] - 1s 21ms/step - loss: 367.3172 - mean_absolute_error: 11.1976 - root_mean_squared_error: 19.1655 - val_loss: 12977.2148 - val_mean_absolute_error: 107.7912 - val_root_mean_squared_error: 113.9176\n",
            "Epoch 31/50\n",
            "53/53 [==============================] - 1s 21ms/step - loss: 143.2157 - mean_absolute_error: 8.8840 - root_mean_squared_error: 11.9673 - val_loss: 10670.5576 - val_mean_absolute_error: 96.3014 - val_root_mean_squared_error: 103.2984\n",
            "Epoch 32/50\n",
            "53/53 [==============================] - 1s 22ms/step - loss: 230.0791 - mean_absolute_error: 11.6163 - root_mean_squared_error: 15.1684 - val_loss: 10811.7148 - val_mean_absolute_error: 97.4409 - val_root_mean_squared_error: 103.9794\n",
            "Epoch 33/50\n",
            "53/53 [==============================] - 1s 22ms/step - loss: 280.7500 - mean_absolute_error: 12.3200 - root_mean_squared_error: 16.7556 - val_loss: 13519.6934 - val_mean_absolute_error: 110.5296 - val_root_mean_squared_error: 116.2742\n",
            "Epoch 34/50\n",
            "53/53 [==============================] - 1s 21ms/step - loss: 220.3862 - mean_absolute_error: 10.2623 - root_mean_squared_error: 14.8454 - val_loss: 12745.4395 - val_mean_absolute_error: 106.8647 - val_root_mean_squared_error: 112.8957\n",
            "Epoch 35/50\n",
            "53/53 [==============================] - 1s 21ms/step - loss: 188.3847 - mean_absolute_error: 9.4343 - root_mean_squared_error: 13.7253 - val_loss: 15596.4336 - val_mean_absolute_error: 119.7074 - val_root_mean_squared_error: 124.8857\n",
            "Epoch 36/50\n",
            "53/53 [==============================] - 1s 22ms/step - loss: 243.7502 - mean_absolute_error: 9.8018 - root_mean_squared_error: 15.6125 - val_loss: 13768.4727 - val_mean_absolute_error: 111.3597 - val_root_mean_squared_error: 117.3391\n",
            "Epoch 37/50\n",
            "53/53 [==============================] - 1s 24ms/step - loss: 170.0913 - mean_absolute_error: 8.8728 - root_mean_squared_error: 13.0419 - val_loss: 11376.0430 - val_mean_absolute_error: 99.8618 - val_root_mean_squared_error: 106.6585\n",
            "Epoch 38/50\n",
            "53/53 [==============================] - 1s 24ms/step - loss: 159.7951 - mean_absolute_error: 9.2039 - root_mean_squared_error: 12.6410 - val_loss: 13039.0693 - val_mean_absolute_error: 108.0814 - val_root_mean_squared_error: 114.1887\n",
            "Epoch 39/50\n",
            "53/53 [==============================] - 1s 24ms/step - loss: 177.1928 - mean_absolute_error: 8.8525 - root_mean_squared_error: 13.3114 - val_loss: 15618.3975 - val_mean_absolute_error: 119.7825 - val_root_mean_squared_error: 124.9736\n",
            "Epoch 40/50\n",
            "53/53 [==============================] - 1s 23ms/step - loss: 172.2465 - mean_absolute_error: 9.1162 - root_mean_squared_error: 13.1243 - val_loss: 11847.4951 - val_mean_absolute_error: 103.0670 - val_root_mean_squared_error: 108.8462\n",
            "Epoch 41/50\n",
            "53/53 [==============================] - 1s 23ms/step - loss: 90.1180 - mean_absolute_error: 7.2284 - root_mean_squared_error: 9.4930 - val_loss: 12048.5029 - val_mean_absolute_error: 103.3056 - val_root_mean_squared_error: 109.7657\n",
            "Epoch 42/50\n",
            "53/53 [==============================] - 1s 21ms/step - loss: 158.5789 - mean_absolute_error: 8.0672 - root_mean_squared_error: 12.5928 - val_loss: 11476.0244 - val_mean_absolute_error: 100.6359 - val_root_mean_squared_error: 107.1262\n",
            "Epoch 43/50\n",
            "53/53 [==============================] - 1s 21ms/step - loss: 95.4737 - mean_absolute_error: 7.2193 - root_mean_squared_error: 9.7711 - val_loss: 14658.2412 - val_mean_absolute_error: 115.6435 - val_root_mean_squared_error: 121.0712\n",
            "Epoch 44/50\n",
            "53/53 [==============================] - 1s 21ms/step - loss: 261.6277 - mean_absolute_error: 10.6103 - root_mean_squared_error: 16.1749 - val_loss: 13628.7480 - val_mean_absolute_error: 110.8605 - val_root_mean_squared_error: 116.7422\n",
            "Epoch 45/50\n",
            "53/53 [==============================] - 1s 22ms/step - loss: 206.2629 - mean_absolute_error: 10.1740 - root_mean_squared_error: 14.3619 - val_loss: 11867.2988 - val_mean_absolute_error: 102.3716 - val_root_mean_squared_error: 108.9371\n",
            "Epoch 46/50\n",
            "53/53 [==============================] - 1s 23ms/step - loss: 126.7693 - mean_absolute_error: 7.5926 - root_mean_squared_error: 11.2592 - val_loss: 10190.1758 - val_mean_absolute_error: 94.1219 - val_root_mean_squared_error: 100.9464\n",
            "Epoch 47/50\n",
            "53/53 [==============================] - 1s 23ms/step - loss: 117.2153 - mean_absolute_error: 7.4876 - root_mean_squared_error: 10.8266 - val_loss: 11767.7324 - val_mean_absolute_error: 102.0796 - val_root_mean_squared_error: 108.4792\n",
            "Epoch 48/50\n",
            "53/53 [==============================] - 1s 23ms/step - loss: 166.8720 - mean_absolute_error: 8.5641 - root_mean_squared_error: 12.9179 - val_loss: 11796.4502 - val_mean_absolute_error: 102.4516 - val_root_mean_squared_error: 108.6115\n",
            "Epoch 49/50\n",
            "53/53 [==============================] - 1s 24ms/step - loss: 93.7387 - mean_absolute_error: 6.8226 - root_mean_squared_error: 9.6819 - val_loss: 12033.5674 - val_mean_absolute_error: 103.4600 - val_root_mean_squared_error: 109.6976\n",
            "Epoch 50/50\n",
            "53/53 [==============================] - 1s 23ms/step - loss: 170.8367 - mean_absolute_error: 8.0158 - root_mean_squared_error: 13.0705 - val_loss: 11243.9014 - val_mean_absolute_error: 99.4954 - val_root_mean_squared_error: 106.0373\n"
          ]
        },
        {
          "output_type": "display_data",
          "data": {
            "text/plain": [
              "<Figure size 640x480 with 1 Axes>"
            ],
            "image/png": "[encoded data removed]"
          },
          "metadata": {}
        }
      ]
    },
    {
      "cell_type": "code",
      "source": [
        "if __name__ == \"__main__\":\n",
        "  print('vowlr')\n",
        "  tf.keras.backend.clear_session()\n",
        "\n",
        "  model = build_model(True)\n",
        "  model.load_weights('macbeth.hdf5')\n",
        "\n",
        "  x = reformat_mask_for_pred('./mask2.png')\n",
        "  y = model.predict(x)\n",
        "  print(-y[0])"
      ],
      "metadata": {
        "id": "jhaw_UVCqIMj",
        "colab": {
          "base_uri": "https://localhost:8080/"
        },
        "outputId": "8b7765b8-5de2-4a68-db3b-7008f0f6bfb5"
      },
      "execution_count": 50,
      "outputs": [
        {
          "output_type": "stream",
          "name": "stdout",
          "text": [
            "vowlr\n",
            "Model: \"sequential\"\n",
            "_________________________________________________________________\n",
            " Layer (type)                Output Shape              Param #   \n",
            "=================================================================\n",
            " conv2d (Conv2D)             (None, 510, 510, 32)      896       \n",
            "                                                                 \n",
            " max_pooling2d (MaxPooling2  (None, 255, 255, 32)      0         \n",
            " D)                                                              \n",
            "                                                                 \n",
            " conv2d_1 (Conv2D)           (None, 253, 253, 64)      18496     \n",
            "                                                                 \n",
            " max_pooling2d_1 (MaxPoolin  (None, 126, 126, 64)      0         \n",
            " g2D)                                                            \n",
            "                                                                 \n",
            " conv2d_2 (Conv2D)           (None, 124, 124, 64)      36928     \n",
            "                                                                 \n",
            " flatten (Flatten)           (None, 984064)            0         \n",
            "                                                                 \n",
            " dropout (Dropout)           (None, 984064)            0         \n",
            "                                                                 \n",
            " dense (Dense)               (None, 64)                62980160  \n",
            "                                                                 \n",
            " dense_1 (Dense)             (None, 16)                1040      \n",
            "                                                                 \n",
            " dense_2 (Dense)             (None, 1)                 17        \n",
            "                                                                 \n",
            "=================================================================\n",
            "Total params: 63037537 (240.47 MB)\n",
            "Trainable params: 63037537 (240.47 MB)\n",
            "Non-trainable params: 0 (0.00 Byte)\n",
            "_________________________________________________________________\n",
            "1/1 [==============================] - 0s 77ms/step\n",
            "[91.29436]\n"
          ]
        }
      ]
    },
    {
      "cell_type": "code",
      "source": [
        "!zip -r './file.zip' './earth_pics/'"
      ],
      "metadata": {
        "colab": {
          "base_uri": "https://localhost:8080/"
        },
        "id": "Q3kI3j0Y4UT-",
        "outputId": "e23d2fd8-dd1f-42fe-93db-a2acb973be1b"
      },
      "execution_count": null,
      "outputs": [
        {
          "output_type": "stream",
          "name": "stdout",
          "text": [
            "  adding: earth_pics/ (stored 0%)\n",
            "  adding: earth_pics/hanoi_conhue.jpg (deflated 9%)\n",
            "  adding: earth_pics/hanoi_cuanam.jpg (deflated 1%)\n",
            "  adding: earth_pics/hcm_tanphu.jpg (deflated 2%)\n",
            "  adding: earth_pics/hanoi_socson.jpg (deflated 8%)\n",
            "  adding: earth_pics/hanoi_tulien.jpg (deflated 4%)\n",
            "  adding: earth_pics/hanoi_minhkhai.jpg (deflated 0%)\n",
            "  adding: earth_pics/hcm_govap.jpg (deflated 0%)\n",
            "  adding: earth_pics/phuquoc_nam.jpg (deflated 9%)\n",
            "  adding: earth_pics/quangninh_uongbi.jpg (deflated 2%)\n",
            "  adding: earth_pics/hanoi_quangan.jpg (deflated 16%)\n",
            "  adding: earth_pics/hanoi_caugiay.jpg (deflated 1%)\n",
            "  adding: earth_pics/hanoi_vandien.jpg (deflated 2%)\n",
            "  adding: earth_pics/hcm_q10.jpg (deflated 0%)\n",
            "  adding: earth_pics/hanoi_tayho.jpg (deflated 6%)\n",
            "  adding: earth_pics/hanoi_ngoclam.jpg (deflated 1%)\n",
            "  adding: earth_pics/hanoi_quocoai.jpg (deflated 4%)\n",
            "  adding: earth_pics/danang.jpg (deflated 0%)\n",
            "  adding: earth_pics/baria.jpg (deflated 1%)\n",
            "  adding: earth_pics/halong.jpg (deflated 5%)\n",
            "  adding: earth_pics/vungtau.jpg (deflated 1%)\n",
            "  adding: earth_pics/hanoi_xuantao.jpg (deflated 5%)\n",
            "  adding: earth_pics/haiphong.jpg (deflated 1%)\n",
            "  adding: earth_pics/hanoi_ngocthuy.jpg (deflated 2%)\n",
            "  adding: earth_pics/hanoi_xuandinh.jpg (deflated 5%)\n",
            "  adding: earth_pics/hanoi_hangbai.jpg (deflated 1%)\n",
            "  adding: earth_pics/hcm_thaodien.jpg (deflated 2%)\n",
            "  adding: earth_pics/hanoi_ochodua.jpg (deflated 1%)\n",
            "  adding: earth_pics/hcm_q1.jpg (deflated 1%)\n",
            "  adding: earth_pics/hanoi_daidong.jpg (deflated 11%)\n",
            "  adding: earth_pics/daocathai.jpg (deflated 13%)\n"
          ]
        }
      ]
    },
    {
      "cell_type": "code",
      "source": [
        "from google.colab import files\n",
        "files.download(\"./macbeth.hdf5\")"
      ],
      "metadata": {
        "colab": {
          "base_uri": "https://localhost:8080/",
          "height": 34
        },
        "id": "Z6daIMwk4jxa",
        "outputId": "6e76c739-4b61-467c-8d87-8192cf5b68e8"
      },
      "execution_count": 51,
      "outputs": [
        {
          "output_type": "display_data",
          "data": {
            "text/plain": [
              "<IPython.core.display.Javascript object>"
            ],
            "application/javascript": [
              "\n",
              "    async function download(id, filename, size) {\n",
              "      if (!google.colab.kernel.accessAllowed) {\n",
              "        return;\n",
              "      }\n",
              "      const div = document.createElement('div');\n",
              "      const label = document.createElement('label');\n",
              "      label.textContent = `Downloading \"${filename}\": `;\n",
              "      div.appendChild(label);\n",
              "      const progress = document.createElement('progress');\n",
              "      progress.max = size;\n",
              "      div.appendChild(progress);\n",
              "      document.body.appendChild(div);\n",
              "\n",
              "      const buffers = [];\n",
              "      let downloaded = 0;\n",
              "\n",
              "      const channel = await google.colab.kernel.comms.open(id);\n",
              "      // Send a message to notify the kernel that we're ready.\n",
              "      channel.send({})\n",
              "\n",
              "      for await (const message of channel.messages) {\n",
              "        // Send a message to notify the kernel that we're ready.\n",
              "        channel.send({})\n",
              "        if (message.buffers) {\n",
              "          for (const buffer of message.buffers) {\n",
              "            buffers.push(buffer);\n",
              "            downloaded += buffer.byteLength;\n",
              "            progress.value = downloaded;\n",
              "          }\n",
              "        }\n",
              "      }\n",
              "      const blob = new Blob(buffers, {type: 'application/binary'});\n",
              "      const a = document.createElement('a');\n",
              "      a.href = window.URL.createObjectURL(blob);\n",
              "      a.download = filename;\n",
              "      div.appendChild(a);\n",
              "      a.click();\n",
              "      div.remove();\n",
              "    }\n",
              "  "
            ]
          },
          "metadata": {}
        },
        {
          "output_type": "display_data",
          "data": {
            "text/plain": [
              "<IPython.core.display.Javascript object>"
            ],
            "application/javascript": [
              "download(\"download_0fc33080-1ae4-494d-b5e6-4fe665b0a787\", \"macbeth.hdf5\", 504345616)"
            ]
          },
          "metadata": {}
        }
      ]
    }
  ]
}