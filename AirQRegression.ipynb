{
  "nbformat": 4,
  "nbformat_minor": 0,
  "metadata": {
    "colab": {
      "provenance": [],
      "gpuType": "T4"
    },
    "kernelspec": {
      "name": "python3",
      "display_name": "Python 3"
    },
    "language_info": {
      "name": "python"
    },
    "accelerator": "GPU"
  },
  "cells": [
    {
      "cell_type": "code",
      "execution_count": 10,
      "metadata": {
        "id": "lgRuM1YOZ1rb"
      },
      "outputs": [],
      "source": [
        "import numpy as np\n",
        "import pandas as pd\n",
        "import seaborn as sns\n",
        "import matplotlib.pyplot as plt\n",
        "\n",
        "import tensorflow as tf\n",
        "from keras import models\n",
        "from keras import layers\n",
        "from keras import metrics\n",
        "from keras.callbacks import EarlyStopping, ModelCheckpoint\n",
        "\n",
        "import pathlib\n",
        "import cv2\n",
        "import pandas\n",
        "\n"
      ]
    },
    {
      "cell_type": "code",
      "source": [
        "from google.colab import drive\n",
        "drive.mount('/content/drive')"
      ],
      "metadata": {
        "colab": {
          "base_uri": "https://localhost:8080/"
        },
        "id": "X2SLYPHovXxX",
        "outputId": "9f0f7d94-64ac-4335-a938-ba4001a63cce"
      },
      "execution_count": 2,
      "outputs": [
        {
          "output_type": "stream",
          "name": "stdout",
          "text": [
            "Drive already mounted at /content/drive; to attempt to forcibly remount, call drive.mount(\"/content/drive\", force_remount=True).\n"
          ]
        }
      ]
    },
    {
      "cell_type": "code",
      "source": [
        "import shutil\n",
        "shutil.copy(\"./drive/MyDrive/models/best-model.pth\", \"./models/best-model.pth\")"
      ],
      "metadata": {
        "colab": {
          "base_uri": "https://localhost:8080/",
          "height": 35
        },
        "id": "1etV9C6w2cw4",
        "outputId": "970f55c1-04ad-4419-bcdc-7f7011d79d4d"
      },
      "execution_count": 46,
      "outputs": [
        {
          "output_type": "execute_result",
          "data": {
            "text/plain": [
              "'./models/best-model.pth'"
            ],
            "application/vnd.google.colaboratory.intrinsic+json": {
              "type": "string"
            }
          },
          "metadata": {},
          "execution_count": 46
        }
      ]
    },
    {
      "cell_type": "code",
      "source": [
        "print(\"Num GPUs Available: \", len(tf.config.list_physical_devices('GPU')))"
      ],
      "metadata": {
        "colab": {
          "base_uri": "https://localhost:8080/"
        },
        "id": "qRqsw5vnaKSK",
        "outputId": "90151bd1-7287-45d5-9821-018c17db2def"
      },
      "execution_count": 4,
      "outputs": [
        {
          "output_type": "stream",
          "name": "stdout",
          "text": [
            "Num GPUs Available:  1\n"
          ]
        }
      ]
    },
    {
      "cell_type": "code",
      "source": [
        "!ls"
      ],
      "metadata": {
        "colab": {
          "base_uri": "https://localhost:8080/"
        },
        "id": "8wxkC-kqwlR6",
        "outputId": "2a982a8f-0e40-4b5c-b859-78170d4981c6"
      },
      "execution_count": 6,
      "outputs": [
        {
          "output_type": "stream",
          "name": "stdout",
          "text": [
            "drive  sample_data\n"
          ]
        }
      ]
    },
    {
      "cell_type": "code",
      "source": [
        "!unzip -n './drive/MyDrive/models/earth.zip'"
      ],
      "metadata": {
        "colab": {
          "base_uri": "https://localhost:8080/"
        },
        "id": "_p6DRYmAaspP",
        "outputId": "7d6d6c1a-33d0-4114-c89f-0b6b886522e7"
      },
      "execution_count": 15,
      "outputs": [
        {
          "output_type": "stream",
          "name": "stdout",
          "text": [
            "Archive:  ./drive/MyDrive/models/earth.zip\n",
            "  inflating: earth/baria.jpg         \n",
            "  inflating: earth/danang.jpg        \n",
            "  inflating: earth/daocathai.jpg     \n",
            "  inflating: earth/haiphong.jpg      \n",
            "  inflating: earth/halong.jpg        \n",
            "  inflating: earth/hanoi_caugiay.jpg  \n",
            "  inflating: earth/hanoi_conhue.jpg  \n",
            "  inflating: earth/hanoi_cuanam.jpg  \n",
            "  inflating: earth/hanoi_daidong.jpg  \n",
            "  inflating: earth/hanoi_hangbai.jpg  \n",
            "  inflating: earth/hanoi_minhkhai.jpg  \n",
            "  inflating: earth/hanoi_ngoclam.jpg  \n",
            "  inflating: earth/hanoi_ngocthuy.jpg  \n",
            "  inflating: earth/hanoi_ochodua.jpg  \n",
            "  inflating: earth/hanoi_quangan.jpg  \n",
            "  inflating: earth/hanoi_quocoai.jpg  \n",
            "  inflating: earth/hanoi_socson.jpg  \n",
            "  inflating: earth/hanoi_tayho.jpg   \n",
            "  inflating: earth/hanoi_tulien.jpg  \n",
            "  inflating: earth/hanoi_vandien.jpg  \n",
            "  inflating: earth/hanoi_xuandinh.jpg  \n",
            "  inflating: earth/hanoi_xuantao.jpg  \n",
            "  inflating: earth/hcm_govap.jpg     \n",
            "  inflating: earth/hcm_q1.jpg        \n",
            "  inflating: earth/hcm_q10.jpg       \n",
            "  inflating: earth/hcm_tanphu.jpg    \n",
            "  inflating: earth/hcm_thaodien.jpg  \n",
            "  inflating: earth/phuquoc_nam.jpg   \n",
            "  inflating: earth/quangninh_uongbi.jpg  \n",
            "  inflating: earth/vungtau.jpg       \n"
          ]
        }
      ]
    },
    {
      "cell_type": "code",
      "source": [
        "# Parametres\n",
        "path_csv = pathlib.Path(r'./airquality.csv')\n",
        "altitude = 2.4"
      ],
      "metadata": {
        "id": "6cvBtvMUaie1"
      },
      "execution_count": 3,
      "outputs": []
    },
    {
      "cell_type": "code",
      "source": [
        "def get_data():\n",
        "    print('date?')\n",
        "    dataframe = pandas.read_csv(path_csv, delimiter=',', names=[\"ct\", \"airq\"])\n",
        "    #print(dataframe)\n",
        "    npdf = np.asarray(dataframe)\n",
        "    print(npdf.shape)\n",
        "    l = len(npdf)\n",
        "    x_list, y_list = npdf[:, 0], npdf[:, 1]\n",
        "    y_list = y_list.astype('float32')\n",
        "    images = np.zeros(shape=(l, 1024, 1024))\n",
        "    for i in range(l):\n",
        "        #im = Image.open('C:/Users/Timbo/Documents/Projet/multi/data/earth_mask/'+x_list[i]+'.jpg')\n",
        "        im = cv2.imread('./earth_pics/'+x_list[i]+'.jpg')\n",
        "        im = cv2.resize(im, (1024, 1024), interpolation = cv2.INTER_LANCZOS4)\n",
        "        im = cv2.cvtColor(im, cv2.COLOR_BGR2GRAY)\n",
        "        images[i] = np.asarray(im).astype('float32')\n",
        "        images[i] = images[i]/255\n",
        "        #print(images[i])\n",
        "        #im = Image.fromarray(images[i].astype('uint8'), 'L')\n",
        "        #im.show()\n",
        "    return x_list, y_list, images"
      ],
      "metadata": {
        "id": "ft0AwkGqaeya"
      },
      "execution_count": 15,
      "outputs": []
    },
    {
      "cell_type": "code",
      "source": [
        "def build_model(com):\n",
        "\n",
        "    model = models.Sequential()\n",
        "    model.add(layers.Conv2D(32, (3, 3), activation='relu', input_shape=(1024, 1024, 1)))\n",
        "    model.add(layers.MaxPooling2D((2, 2)))\n",
        "    model.add(layers.Conv2D(64, (3, 3), activation='relu'))\n",
        "    model.add(layers.MaxPooling2D((2, 2)))\n",
        "    model.add(layers.Conv2D(64, (3, 3), activation='relu'))\n",
        "    model.add(layers.Flatten())\n",
        "    model.add(layers.Dropout(0.5))\n",
        "    model.add(layers.Dense(64, activation='relu'))\n",
        "    model.add(layers.Dense(16, activation='relu'))\n",
        "    model.add(layers.Dense(1, activation=None))\n",
        "\n",
        "    if com == True:\n",
        "      model.compile(\n",
        "          optimizer='rmsprop',\n",
        "          loss='mse',\n",
        "          metrics=[metrics.MeanAbsoluteError(), metrics.RootMeanSquaredError()])\n",
        "    model.summary()\n",
        "\n",
        "    return model"
      ],
      "metadata": {
        "id": "y_sM6XIqaFX4"
      },
      "execution_count": 6,
      "outputs": []
    },
    {
      "cell_type": "code",
      "source": [
        "def train_model(model):\n",
        "  save_at = \"macbeth.hdf5\"\n",
        "  save_best2 = ModelCheckpoint (save_at, monitor='val_mean_absolute_error', verbose=0, save_best_only=True, save_weights_only=False, mode='max')\n",
        "\n",
        "  ifn, labels, images = get_data()\n",
        "  train_images = images[:25]\n",
        "  train_labels = labels[:25]\n",
        "  test_images = images[25:]\n",
        "  test_labels = labels[25:]\n",
        "\n",
        "  # Run model and get metrics for each epoch\n",
        "  history = model.fit(\n",
        "      train_images,\n",
        "      train_labels,\n",
        "      callbacks=[\n",
        "          #EarlyStopping(monitor='val_mean_absolute_error', patience=5, restore_best_weights=True)\n",
        "          save_best2\n",
        "          ],\n",
        "      epochs=5,\n",
        "      batch_size=1,\n",
        "      validation_data=(test_images, test_labels)\n",
        "      )\n",
        "\n",
        "  return history"
      ],
      "metadata": {
        "id": "08cN1rk_aV6T"
      },
      "execution_count": 7,
      "outputs": []
    },
    {
      "cell_type": "code",
      "source": [
        "def loss_plot(history):\n",
        "    plt.plot(history.history['loss'])\n",
        "    plt.plot(history.history['val_loss'])\n",
        "    plt.title('model loss')\n",
        "    plt.ylabel('loss')\n",
        "    plt.xlabel('epoch')\n",
        "    plt.legend(['train', 'val'], loc='upper left')\n",
        "    plt.show()"
      ],
      "metadata": {
        "id": "KB61bPxFcjVa"
      },
      "execution_count": 8,
      "outputs": []
    },
    {
      "cell_type": "code",
      "source": [
        "def reformat_mask_for_pred(img):\n",
        "  im = cv2.imread(img)\n",
        "  im = cv2.cvtColor(im, cv2.COLOR_BGR2GRAY)\n",
        "  im = cv2.resize(im,(1024, 1024))     # resize image to match model's expected sizing\n",
        "  im = im.reshape(1,1024,1024,1)\n",
        "  x = np.asarray(im).astype('float32')\n",
        "  #im = Image.open('./mask.jpg')\n",
        "  #im = im.convert('L')\n",
        "  x = np.zeros(shape=(1, 1024, 1024))\n",
        "  x = np.asarray(im).astype('float32')\n",
        "  x = x/255\n",
        "  return x"
      ],
      "metadata": {
        "id": "lW1GrySrrxly"
      },
      "execution_count": 13,
      "outputs": []
    },
    {
      "cell_type": "code",
      "source": [
        "from fastai.vision.all import *"
      ],
      "metadata": {
        "id": "xYCKhprN796T"
      },
      "execution_count": null,
      "outputs": []
    },
    {
      "cell_type": "code",
      "source": [
        "def build_model1(model_path):\n",
        "  from tqdm import tqdm\n",
        "  import pathlib\n",
        "  plt = platform.system()\n",
        "  print(plt)\n",
        "  if plt == 'Linux': pathlib.WindowsPath = pathlib.PosixPath\n",
        "  torch.cuda.empty_cache()\n",
        "\n",
        "  #model = unet_learner(arch=xresnet34)\n",
        "  model = load_learner(model_path+r'berlin3.pkl', cpu=False)\n",
        "  model.load('best-model')\n",
        "  return model"
      ],
      "metadata": {
        "colab": {
          "base_uri": "https://localhost:8080/",
          "height": 140
        },
        "id": "Kg8s4xN_wwOb",
        "outputId": "510faa83-d6a8-470b-ee44-94ed51ce827a"
      },
      "execution_count": 11,
      "outputs": [
        {
          "output_type": "error",
          "ename": "SyntaxError",
          "evalue": "import * only allowed at module level (<ipython-input-11-f3d0743f2f33>, line 2)",
          "traceback": [
            "\u001b[0;36m  File \u001b[0;32m\"<ipython-input-11-f3d0743f2f33>\"\u001b[0;36m, line \u001b[0;32m2\u001b[0m\n\u001b[0;31m    from fastai.vision.all import *\u001b[0m\n\u001b[0m                                  ^\u001b[0m\n\u001b[0;31mSyntaxError\u001b[0m\u001b[0;31m:\u001b[0m import * only allowed at module level\n"
          ]
        }
      ]
    },
    {
      "cell_type": "code",
      "source": [
        "from PIL import Image\n",
        "\n",
        "def generate_pred_model1(model):\n",
        "  pics = os.listdir(r'./earth/')\n",
        "  for img in pics:\n",
        "    torch.cuda.empty_cache()\n",
        "    im = Image.open(r'./earth/'+img)\n",
        "    im.thumbnail((3000, 3000), Image.Resampling.LANCZOS)\n",
        "    m = model.predict(im)\n",
        "    m = to_image(m[2][1].repeat(3,1,1))\n",
        "    pathsave = r'./earth_pics/'+img\n",
        "    m.save(pathsave, \"JPEG\")"
      ],
      "metadata": {
        "id": "08sfTGalxN5O"
      },
      "execution_count": 24,
      "outputs": []
    },
    {
      "cell_type": "code",
      "source": [
        "def get_image_tiles_NEW2(path:Path) -> L:\n",
        "   files = L()\n",
        "   files = get_image_files(path=path, folders='im_tiles_ds2')\n",
        "   return files\n",
        "\n",
        "def get_y_fn_NEW2(fn:Path) -> str:\n",
        "  #print(str(fn).replace('im_tiles', 'gt_tiles'))\n",
        "  return str(fn).replace('im_tiles', 'gt_tiles')\n",
        "\n",
        "def get_y_NEW2(fn:Path) -> PILMask:\n",
        "   fn = get_y_fn_NEW2(fn)\n",
        "   msk = np.array(PILMask.create(fn))\n",
        "   #print(msk)\n",
        "   #msk[msk==255] = 1\n",
        "   msk = msk / 255\n",
        "   #print(msk)\n",
        "   return PILMask.create(msk)"
      ],
      "metadata": {
        "id": "5E_owlXn1BxH"
      },
      "execution_count": 34,
      "outputs": []
    },
    {
      "cell_type": "code",
      "source": [
        "if __name__ == \"__main__\":\n",
        "    print('vowlr')\n",
        "    tf.keras.backend.clear_session()\n",
        "\n",
        "    model1path = './drive/MyDrive/models/'\n",
        "\n",
        "    #model1 = build_model1(model1path)\n",
        "    #generate_pred_model1(model1)\n",
        "\n",
        "    #model = build_model(True)\n",
        "    #model.load_weights('macbeth.hdf5')\n",
        "    #history = train_model(model)\n",
        "    #loss_plot(history)\n",
        "\n",
        "    mode = build_model(True)\n",
        "    his = train_model(mode)\n",
        "    loss_plot(his)"
      ],
      "metadata": {
        "colab": {
          "base_uri": "https://localhost:8080/",
          "height": 1000
        },
        "id": "qnXAC2B8dLPz",
        "outputId": "26145bdd-5c5e-471e-c028-612a7e0e3ec2"
      },
      "execution_count": 16,
      "outputs": [
        {
          "output_type": "stream",
          "name": "stdout",
          "text": [
            "vowlr\n",
            "Model: \"sequential\"\n",
            "_________________________________________________________________\n",
            " Layer (type)                Output Shape              Param #   \n",
            "=================================================================\n",
            " conv2d (Conv2D)             (None, 1022, 1022, 32)    320       \n",
            "                                                                 \n",
            " max_pooling2d (MaxPooling2  (None, 511, 511, 32)      0         \n",
            " D)                                                              \n",
            "                                                                 \n",
            " conv2d_1 (Conv2D)           (None, 509, 509, 64)      18496     \n",
            "                                                                 \n",
            " max_pooling2d_1 (MaxPoolin  (None, 254, 254, 64)      0         \n",
            " g2D)                                                            \n",
            "                                                                 \n",
            " conv2d_2 (Conv2D)           (None, 252, 252, 64)      36928     \n",
            "                                                                 \n",
            " flatten (Flatten)           (None, 4064256)           0         \n",
            "                                                                 \n",
            " dropout (Dropout)           (None, 4064256)           0         \n",
            "                                                                 \n",
            " dense (Dense)               (None, 64)                260112448 \n",
            "                                                                 \n",
            " dense_1 (Dense)             (None, 16)                1040      \n",
            "                                                                 \n",
            " dense_2 (Dense)             (None, 1)                 17        \n",
            "                                                                 \n",
            "=================================================================\n",
            "Total params: 260169249 (992.47 MB)\n",
            "Trainable params: 260169249 (992.47 MB)\n",
            "Non-trainable params: 0 (0.00 Byte)\n",
            "_________________________________________________________________\n",
            "date?\n",
            "(30, 2)\n",
            "Epoch 1/5\n",
            "25/25 [==============================] - ETA: 0s - loss: 15452.9717 - mean_absolute_error: 82.5700 - root_mean_squared_error: 124.3100"
          ]
        },
        {
          "output_type": "stream",
          "name": "stderr",
          "text": [
            "/usr/local/lib/python3.10/dist-packages/keras/src/engine/training.py:3103: UserWarning: You are saving your model as an HDF5 file via `model.save()`. This file format is considered legacy. We recommend using instead the native Keras format, e.g. `model.save('my_model.keras')`.\n",
            "  saving_api.save_model(\n"
          ]
        },
        {
          "output_type": "stream",
          "name": "stdout",
          "text": [
            "\b\b\b\b\b\b\b\b\b\b\b\b\b\b\b\b\b\b\b\b\b\b\b\b\b\b\b\b\b\b\b\b\b\b\b\b\b\b\b\b\b\b\b\b\b\b\b\b\b\b\b\b\b\b\b\b\b\b\b\b\b\b\b\b\b\b\b\b\b\b\b\b\b\b\b\b\b\b\b\b\b\b\b\b\b\b\b\b\b\b\b\b\b\b\b\b\b\b\b\b\b\b\b\b\b\b\b\b\b\b\b\b\b\b\b\b\b\b\b\b\b\b\b\b\b\b\b\b\b\b\b\b\b\b\r25/25 [==============================] - 27s 839ms/step - loss: 15452.9717 - mean_absolute_error: 82.5700 - root_mean_squared_error: 124.3100 - val_loss: 1812.4277 - val_mean_absolute_error: 37.7797 - val_root_mean_squared_error: 42.5726\n",
            "Epoch 2/5\n",
            "25/25 [==============================] - 18s 737ms/step - loss: 4605.3730 - mean_absolute_error: 55.7098 - root_mean_squared_error: 67.8629 - val_loss: 13957.4219 - val_mean_absolute_error: 112.8555 - val_root_mean_squared_error: 118.1415\n",
            "Epoch 3/5\n",
            "25/25 [==============================] - 2s 83ms/step - loss: 2861.9998 - mean_absolute_error: 44.8880 - root_mean_squared_error: 53.4977 - val_loss: 4004.1055 - val_mean_absolute_error: 60.7096 - val_root_mean_squared_error: 63.2780\n",
            "Epoch 4/5\n",
            "25/25 [==============================] - 2s 82ms/step - loss: 2475.6553 - mean_absolute_error: 42.0848 - root_mean_squared_error: 49.7560 - val_loss: 5506.6436 - val_mean_absolute_error: 70.9582 - val_root_mean_squared_error: 74.2068\n",
            "Epoch 5/5\n",
            "25/25 [==============================] - 2s 76ms/step - loss: 1219.9933 - mean_absolute_error: 28.7134 - root_mean_squared_error: 34.9284 - val_loss: 418.6785 - val_mean_absolute_error: 17.1094 - val_root_mean_squared_error: 20.4616\n"
          ]
        },
        {
          "output_type": "display_data",
          "data": {
            "text/plain": [
              "<Figure size 640x480 with 1 Axes>"
            ],
            "image/png": "[encoded data removed]"
          },
          "metadata": {}
        }
      ]
    },
    {
      "cell_type": "code",
      "source": [
        "if __name__ == \"__main__\":\n",
        "  print('vowlr')\n",
        "  tf.keras.backend.clear_session()\n",
        "\n",
        "  model = build_model(True)\n",
        "  model.load_weights('macbeth.hdf5')\n",
        "\n",
        "  x = reformat_mask_for_pred('./mask.jpg')\n",
        "  y = model.predict(x)\n",
        "  print(y)"
      ],
      "metadata": {
        "id": "jhaw_UVCqIMj"
      },
      "execution_count": null,
      "outputs": []
    },
    {
      "cell_type": "code",
      "source": [
        "!zip -r './file.zip' './earth_pics/'"
      ],
      "metadata": {
        "colab": {
          "base_uri": "https://localhost:8080/"
        },
        "id": "Q3kI3j0Y4UT-",
        "outputId": "e23d2fd8-dd1f-42fe-93db-a2acb973be1b"
      },
      "execution_count": 51,
      "outputs": [
        {
          "output_type": "stream",
          "name": "stdout",
          "text": [
            "  adding: earth_pics/ (stored 0%)\n",
            "  adding: earth_pics/hanoi_conhue.jpg (deflated 9%)\n",
            "  adding: earth_pics/hanoi_cuanam.jpg (deflated 1%)\n",
            "  adding: earth_pics/hcm_tanphu.jpg (deflated 2%)\n",
            "  adding: earth_pics/hanoi_socson.jpg (deflated 8%)\n",
            "  adding: earth_pics/hanoi_tulien.jpg (deflated 4%)\n",
            "  adding: earth_pics/hanoi_minhkhai.jpg (deflated 0%)\n",
            "  adding: earth_pics/hcm_govap.jpg (deflated 0%)\n",
            "  adding: earth_pics/phuquoc_nam.jpg (deflated 9%)\n",
            "  adding: earth_pics/quangninh_uongbi.jpg (deflated 2%)\n",
            "  adding: earth_pics/hanoi_quangan.jpg (deflated 16%)\n",
            "  adding: earth_pics/hanoi_caugiay.jpg (deflated 1%)\n",
            "  adding: earth_pics/hanoi_vandien.jpg (deflated 2%)\n",
            "  adding: earth_pics/hcm_q10.jpg (deflated 0%)\n",
            "  adding: earth_pics/hanoi_tayho.jpg (deflated 6%)\n",
            "  adding: earth_pics/hanoi_ngoclam.jpg (deflated 1%)\n",
            "  adding: earth_pics/hanoi_quocoai.jpg (deflated 4%)\n",
            "  adding: earth_pics/danang.jpg (deflated 0%)\n",
            "  adding: earth_pics/baria.jpg (deflated 1%)\n",
            "  adding: earth_pics/halong.jpg (deflated 5%)\n",
            "  adding: earth_pics/vungtau.jpg (deflated 1%)\n",
            "  adding: earth_pics/hanoi_xuantao.jpg (deflated 5%)\n",
            "  adding: earth_pics/haiphong.jpg (deflated 1%)\n",
            "  adding: earth_pics/hanoi_ngocthuy.jpg (deflated 2%)\n",
            "  adding: earth_pics/hanoi_xuandinh.jpg (deflated 5%)\n",
            "  adding: earth_pics/hanoi_hangbai.jpg (deflated 1%)\n",
            "  adding: earth_pics/hcm_thaodien.jpg (deflated 2%)\n",
            "  adding: earth_pics/hanoi_ochodua.jpg (deflated 1%)\n",
            "  adding: earth_pics/hcm_q1.jpg (deflated 1%)\n",
            "  adding: earth_pics/hanoi_daidong.jpg (deflated 11%)\n",
            "  adding: earth_pics/daocathai.jpg (deflated 13%)\n"
          ]
        }
      ]
    },
    {
      "cell_type": "code",
      "source": [
        "from google.colab import files\n",
        "files.download(\"./macbeth.hdf5\")"
      ],
      "metadata": {
        "colab": {
          "base_uri": "https://localhost:8080/",
          "height": 34
        },
        "id": "Z6daIMwk4jxa",
        "outputId": "3f5eb5e3-a341-4787-da85-cb0eeed21327"
      },
      "execution_count": 17,
      "outputs": [
        {
          "output_type": "display_data",
          "data": {
            "text/plain": [
              "<IPython.core.display.Javascript object>"
            ],
            "application/javascript": [
              "\n",
              "    async function download(id, filename, size) {\n",
              "      if (!google.colab.kernel.accessAllowed) {\n",
              "        return;\n",
              "      }\n",
              "      const div = document.createElement('div');\n",
              "      const label = document.createElement('label');\n",
              "      label.textContent = `Downloading \"${filename}\": `;\n",
              "      div.appendChild(label);\n",
              "      const progress = document.createElement('progress');\n",
              "      progress.max = size;\n",
              "      div.appendChild(progress);\n",
              "      document.body.appendChild(div);\n",
              "\n",
              "      const buffers = [];\n",
              "      let downloaded = 0;\n",
              "\n",
              "      const channel = await google.colab.kernel.comms.open(id);\n",
              "      // Send a message to notify the kernel that we're ready.\n",
              "      channel.send({})\n",
              "\n",
              "      for await (const message of channel.messages) {\n",
              "        // Send a message to notify the kernel that we're ready.\n",
              "        channel.send({})\n",
              "        if (message.buffers) {\n",
              "          for (const buffer of message.buffers) {\n",
              "            buffers.push(buffer);\n",
              "            downloaded += buffer.byteLength;\n",
              "            progress.value = downloaded;\n",
              "          }\n",
              "        }\n",
              "      }\n",
              "      const blob = new Blob(buffers, {type: 'application/binary'});\n",
              "      const a = document.createElement('a');\n",
              "      a.href = window.URL.createObjectURL(blob);\n",
              "      a.download = filename;\n",
              "      div.appendChild(a);\n",
              "      a.click();\n",
              "      div.remove();\n",
              "    }\n",
              "  "
            ]
          },
          "metadata": {}
        },
        {
          "output_type": "display_data",
          "data": {
            "text/plain": [
              "<IPython.core.display.Javascript object>"
            ],
            "application/javascript": [
              "download(\"download_c1356a5b-3a35-448e-9f74-239e44d2d08b\", \"macbeth.hdf5\", 2081401152)"
            ]
          },
          "metadata": {}
        }
      ]
    }
  ]
}