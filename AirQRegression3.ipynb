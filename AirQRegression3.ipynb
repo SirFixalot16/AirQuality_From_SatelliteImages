{
  "nbformat": 4,
  "nbformat_minor": 0,
  "metadata": {
    "colab": {
      "provenance": [],
      "gpuType": "T4"
    },
    "kernelspec": {
      "name": "python3",
      "display_name": "Python 3"
    },
    "language_info": {
      "name": "python"
    },
    "accelerator": "GPU"
  },
  "cells": [
    {
      "cell_type": "code",
      "execution_count": 1,
      "metadata": {
        "id": "lgRuM1YOZ1rb"
      },
      "outputs": [],
      "source": [
        "import numpy as np\n",
        "import pandas as pd\n",
        "import seaborn as sns\n",
        "import matplotlib.pyplot as plt\n",
        "\n",
        "import tensorflow as tf\n",
        "from keras import models\n",
        "from keras import layers\n",
        "from keras import metrics\n",
        "from keras.callbacks import EarlyStopping, ModelCheckpoint\n",
        "\n",
        "import pathlib\n",
        "import cv2\n",
        "import pandas\n",
        "\n"
      ]
    },
    {
      "cell_type": "code",
      "source": [
        "from google.colab import drive\n",
        "drive.mount('/content/drive')"
      ],
      "metadata": {
        "colab": {
          "base_uri": "https://localhost:8080/"
        },
        "id": "X2SLYPHovXxX",
        "outputId": "ff7d2e27-0e43-4254-d73e-5891e9a2e304"
      },
      "execution_count": 2,
      "outputs": [
        {
          "output_type": "stream",
          "name": "stdout",
          "text": [
            "Drive already mounted at /content/drive; to attempt to forcibly remount, call drive.mount(\"/content/drive\", force_remount=True).\n"
          ]
        }
      ]
    },
    {
      "cell_type": "code",
      "source": [
        "import shutil\n",
        "shutil.copy(\"./drive/MyDrive/models/best-model.pth\", \"./models/best-model.pth\")"
      ],
      "metadata": {
        "colab": {
          "base_uri": "https://localhost:8080/",
          "height": 35
        },
        "id": "1etV9C6w2cw4",
        "outputId": "970f55c1-04ad-4419-bcdc-7f7011d79d4d"
      },
      "execution_count": null,
      "outputs": [
        {
          "output_type": "execute_result",
          "data": {
            "text/plain": [
              "'./models/best-model.pth'"
            ],
            "application/vnd.google.colaboratory.intrinsic+json": {
              "type": "string"
            }
          },
          "metadata": {},
          "execution_count": 46
        }
      ]
    },
    {
      "cell_type": "code",
      "source": [
        "print(\"Num GPUs Available: \", len(tf.config.list_physical_devices('GPU')))"
      ],
      "metadata": {
        "colab": {
          "base_uri": "https://localhost:8080/"
        },
        "id": "qRqsw5vnaKSK",
        "outputId": "e9102cd0-9426-4e47-9422-66c1ab2f3347"
      },
      "execution_count": 3,
      "outputs": [
        {
          "output_type": "stream",
          "name": "stdout",
          "text": [
            "Num GPUs Available:  1\n"
          ]
        }
      ]
    },
    {
      "cell_type": "code",
      "source": [
        "!ls"
      ],
      "metadata": {
        "colab": {
          "base_uri": "https://localhost:8080/"
        },
        "id": "8wxkC-kqwlR6",
        "outputId": "0f584336-a673-43e3-ca4f-fca23ef0ed50"
      },
      "execution_count": 4,
      "outputs": [
        {
          "output_type": "stream",
          "name": "stdout",
          "text": [
            "drive\t    final_vlad\t      hanoi_xuantao.png  PM2.5.csv    vlad.csv\n",
            "final_mask  hanoi_tulien.png  macbeth.hdf5\t sample_data\n"
          ]
        }
      ]
    },
    {
      "cell_type": "code",
      "source": [
        "!unzip -n './drive/MyDrive/models/mearth.zip'"
      ],
      "metadata": {
        "colab": {
          "base_uri": "https://localhost:8080/"
        },
        "id": "_p6DRYmAaspP",
        "outputId": "7cf472b0-6b26-45aa-9e0c-3ecb19a435cb"
      },
      "execution_count": 5,
      "outputs": [
        {
          "output_type": "stream",
          "name": "stdout",
          "text": [
            "Archive:  ./drive/MyDrive/models/mearth.zip\n"
          ]
        }
      ]
    },
    {
      "cell_type": "code",
      "source": [
        "# Parametres\n",
        "train = pathlib.Path(r'./PM2.5.csv')\n",
        "valid = pathlib.Path(r'./vlad.csv')\n",
        "altitude = 2.4"
      ],
      "metadata": {
        "id": "6cvBtvMUaie1"
      },
      "execution_count": 6,
      "outputs": []
    },
    {
      "cell_type": "code",
      "source": [
        "def get_data():\n",
        "    print('date?')\n",
        "    dataframe1 = pandas.read_csv(train, delimiter=',', names=[\"ct\", \"airq\"])\n",
        "    dataframe2 = pandas.read_csv(valid, delimiter=',', names=[\"ct\", \"airq\"])\n",
        "    print(dataframe1)\n",
        "    print(dataframe2)\n",
        "    l_train = np.asarray(dataframe1)\n",
        "    l_valid = np.asarray(dataframe2)\n",
        "    print(l_train.shape, l_valid.shape)\n",
        "    x_train, y_train = l_train[:, 0], l_train[:, 1]\n",
        "    x_valid, y_valid = l_valid[:, 0], l_valid[:, 1]\n",
        "    y_train = y_train.astype('float32')\n",
        "    y_valid = y_valid.astype('float32')\n",
        "    images_train = np.zeros(shape=(len(l_train), 1024, 1024, 3))\n",
        "    images_valid = np.zeros(shape=(len(l_valid), 1024, 1024, 3))\n",
        "    for i in range(len(l_train)):\n",
        "        #print('./final_mask/'+x_train[i]+'.png')\n",
        "        im = cv2.imread('./final_mask/'+x_train[i]+'.png')\n",
        "        im = cv2.cvtColor(im, cv2.COLOR_BGR2RGB)\n",
        "        im = cv2.resize(im, (1024, 1024), interpolation = cv2.INTER_LANCZOS4)\n",
        "        im = np.expand_dims(im, axis=0)\n",
        "        #im = cv2.cvtColor(im, cv2.COLOR_BGR2GRAY)\n",
        "        images_train[i] = np.asarray(im)#.astype('float32')\n",
        "        #print(images_train[i])\n",
        "        images_train[i] = images_train[i]/255\n",
        "        #print(images_train[i])\n",
        "    for i in range(len(l_valid)):\n",
        "        im = cv2.imread('./final_vlad/'+x_valid[i]+'.png')\n",
        "        im = cv2.cvtColor(im, cv2.COLOR_BGR2RGB)\n",
        "        im = cv2.resize(im, (1024, 1024), interpolation = cv2.INTER_LANCZOS4)\n",
        "        im = np.expand_dims(im, axis=0)\n",
        "        #im = cv2.cvtColor(im, cv2.COLOR_BGR2GRAY)\n",
        "        images_valid[i] = np.asarray(im)#.astype('float32')\n",
        "        #print(images_valid[i])\n",
        "        images_valid[i] = images_valid[i]/255\n",
        "        #print(images_valid[i])\n",
        "    return images_train, y_train, images_valid, y_valid"
      ],
      "metadata": {
        "id": "ft0AwkGqaeya"
      },
      "execution_count": 7,
      "outputs": []
    },
    {
      "cell_type": "code",
      "source": [
        "def build_model(com):\n",
        "\n",
        "    model = models.Sequential()\n",
        "    model.add(layers.Conv2D(32, (3, 3), activation='relu', input_shape=(1024, 1024, 3)))\n",
        "    model.add(layers.MaxPooling2D((2, 2)))\n",
        "    model.add(layers.Conv2D(64, (3, 3), activation='relu'))\n",
        "    model.add(layers.MaxPooling2D((2, 2)))\n",
        "    model.add(layers.Conv2D(64, (3, 3), activation='relu'))\n",
        "    model.add(layers.Flatten())\n",
        "    model.add(layers.Dropout(0.5))\n",
        "    model.add(layers.Dense(64, activation='relu'))\n",
        "    model.add(layers.Dense(16, activation='relu'))\n",
        "    model.add(layers.Dense(1, activation=None))\n",
        "\n",
        "    if com == True:\n",
        "      model.compile(\n",
        "          optimizer='adam',\n",
        "          #optimizer='rmsprop',\n",
        "          loss='mse',\n",
        "          metrics=[metrics.MeanAbsoluteError(), metrics.RootMeanSquaredError()])\n",
        "    model.summary()\n",
        "\n",
        "    return model"
      ],
      "metadata": {
        "id": "y_sM6XIqaFX4"
      },
      "execution_count": 8,
      "outputs": []
    },
    {
      "cell_type": "code",
      "source": [
        "def train_model(model):\n",
        "  save_at = \"macbeth.hdf5\"\n",
        "  save_best2 = ModelCheckpoint (save_at, monitor='val_mean_absolute_error', verbose=0, save_best_only=True, save_weights_only=False, mode='max')\n",
        "\n",
        "  x_train, y_train, x_test, y_test = get_data()\n",
        "\n",
        "\n",
        "  # Run model and get metrics for each epoch\n",
        "  history = model.fit(\n",
        "      x_train,\n",
        "      y_train,\n",
        "      callbacks=[\n",
        "          #EarlyStopping(monitor='val_mean_absolute_error', patience=5, restore_best_weights=True)\n",
        "          save_best2\n",
        "          ],\n",
        "      epochs=40,\n",
        "      batch_size=1,\n",
        "      validation_data=(x_test, y_test)\n",
        "      )\n",
        "\n",
        "  return history"
      ],
      "metadata": {
        "id": "08cN1rk_aV6T"
      },
      "execution_count": 9,
      "outputs": []
    },
    {
      "cell_type": "code",
      "source": [
        "def loss_plot(history):\n",
        "    plt.plot(history.history['loss'][3:])\n",
        "    plt.plot(history.history['val_loss'][3:])\n",
        "    plt.title('model loss')\n",
        "    plt.ylabel('loss')\n",
        "    plt.xlabel('epoch')\n",
        "    plt.legend(['train', 'val'], loc='upper left')\n",
        "    plt.show()"
      ],
      "metadata": {
        "id": "KB61bPxFcjVa"
      },
      "execution_count": 10,
      "outputs": []
    },
    {
      "cell_type": "code",
      "source": [
        "def reformat_mask_for_pred(img):\n",
        "  im = cv2.imread(img)\n",
        "  im = cv2.cvtColor(im, cv2.COLOR_BGR2RGB)\n",
        "  im = cv2.resize(im, (1024, 1024), interpolation = cv2.INTER_LANCZOS4)     # resize image to match model's expected sizing\n",
        "  x = np.expand_dims(im, axis=0)\n",
        "  #x = np.zeros(shape=(1, 1024, 1024, 3))\n",
        "  #x = np.asarray(im)\n",
        "  x = x/255\n",
        "  #print(x)\n",
        "  return x"
      ],
      "metadata": {
        "id": "lW1GrySrrxly"
      },
      "execution_count": 11,
      "outputs": []
    },
    {
      "cell_type": "code",
      "source": [
        "from fastai.vision.all import *"
      ],
      "metadata": {
        "id": "xYCKhprN796T"
      },
      "execution_count": null,
      "outputs": []
    },
    {
      "cell_type": "code",
      "source": [
        "def build_model1(model_path):\n",
        "  from tqdm import tqdm\n",
        "  import pathlib\n",
        "  plt = platform.system()\n",
        "  print(plt)\n",
        "  if plt == 'Linux': pathlib.WindowsPath = pathlib.PosixPath\n",
        "  torch.cuda.empty_cache()\n",
        "\n",
        "  #model = unet_learner(arch=xresnet34)\n",
        "  model = load_learner(model_path+r'berlin3.pkl', cpu=False)\n",
        "  model.load('best-model')\n",
        "  return model"
      ],
      "metadata": {
        "colab": {
          "base_uri": "https://localhost:8080/",
          "height": 140
        },
        "id": "Kg8s4xN_wwOb",
        "outputId": "510faa83-d6a8-470b-ee44-94ed51ce827a"
      },
      "execution_count": null,
      "outputs": [
        {
          "output_type": "error",
          "ename": "SyntaxError",
          "evalue": "import * only allowed at module level (<ipython-input-11-f3d0743f2f33>, line 2)",
          "traceback": [
            "\u001b[0;36m  File \u001b[0;32m\"<ipython-input-11-f3d0743f2f33>\"\u001b[0;36m, line \u001b[0;32m2\u001b[0m\n\u001b[0;31m    from fastai.vision.all import *\u001b[0m\n\u001b[0m                                  ^\u001b[0m\n\u001b[0;31mSyntaxError\u001b[0m\u001b[0;31m:\u001b[0m import * only allowed at module level\n"
          ]
        }
      ]
    },
    {
      "cell_type": "code",
      "source": [
        "from PIL import Image\n",
        "\n",
        "def generate_pred_model1(model):\n",
        "  pics = os.listdir(r'./earth/')\n",
        "  for img in pics:\n",
        "    torch.cuda.empty_cache()\n",
        "    im = Image.open(r'./earth/'+img)\n",
        "    im.thumbnail((3000, 3000), Image.Resampling.LANCZOS)\n",
        "    m = model.predict(im)\n",
        "    m = to_image(m[2][1].repeat(3,1,1))\n",
        "    pathsave = r'./earth_pics/'+img\n",
        "    m.save(pathsave, \"JPEG\")"
      ],
      "metadata": {
        "id": "08sfTGalxN5O"
      },
      "execution_count": null,
      "outputs": []
    },
    {
      "cell_type": "code",
      "source": [
        "def get_image_tiles_NEW2(path:Path) -> L:\n",
        "   files = L()\n",
        "   files = get_image_files(path=path, folders='im_tiles_ds2')\n",
        "   return files\n",
        "\n",
        "def get_y_fn_NEW2(fn:Path) -> str:\n",
        "  #print(str(fn).replace('im_tiles', 'gt_tiles'))\n",
        "  return str(fn).replace('im_tiles', 'gt_tiles')\n",
        "\n",
        "def get_y_NEW2(fn:Path) -> PILMask:\n",
        "   fn = get_y_fn_NEW2(fn)\n",
        "   msk = np.array(PILMask.create(fn))\n",
        "   #print(msk)\n",
        "   #msk[msk==255] = 1\n",
        "   msk = msk / 255\n",
        "   #print(msk)\n",
        "   return PILMask.create(msk)"
      ],
      "metadata": {
        "id": "5E_owlXn1BxH"
      },
      "execution_count": null,
      "outputs": []
    },
    {
      "cell_type": "code",
      "source": [
        "if __name__ == \"__main__\":\n",
        "    print('vowlr')\n",
        "    tf.keras.backend.clear_session()\n",
        "\n",
        "    model1path = './drive/MyDrive/models/'\n",
        "\n",
        "    #model1 = build_model1(model1path)\n",
        "    #generate_pred_model1(model1)\n",
        "\n",
        "    #model = build_model(True)\n",
        "    #model.load_weights('macbeth.hdf5')\n",
        "    #history = train_model(model)\n",
        "    #loss_plot(history)\n",
        "\n",
        "    mode = build_model(True)\n",
        "    his = train_model(mode)\n",
        "    loss_plot(his)"
      ],
      "metadata": {
        "colab": {
          "base_uri": "https://localhost:8080/",
          "height": 1000
        },
        "id": "qnXAC2B8dLPz",
        "outputId": "eed0f502-6b8a-415a-c0b1-05ed0861f0f4"
      },
      "execution_count": 12,
      "outputs": [
        {
          "output_type": "stream",
          "name": "stdout",
          "text": [
            "vowlr\n",
            "Model: \"sequential\"\n",
            "_________________________________________________________________\n",
            " Layer (type)                Output Shape              Param #   \n",
            "=================================================================\n",
            " conv2d (Conv2D)             (None, 1022, 1022, 32)    896       \n",
            "                                                                 \n",
            " max_pooling2d (MaxPooling2  (None, 511, 511, 32)      0         \n",
            " D)                                                              \n",
            "                                                                 \n",
            " conv2d_1 (Conv2D)           (None, 509, 509, 64)      18496     \n",
            "                                                                 \n",
            " max_pooling2d_1 (MaxPoolin  (None, 254, 254, 64)      0         \n",
            " g2D)                                                            \n",
            "                                                                 \n",
            " conv2d_2 (Conv2D)           (None, 252, 252, 64)      36928     \n",
            "                                                                 \n",
            " flatten (Flatten)           (None, 4064256)           0         \n",
            "                                                                 \n",
            " dropout (Dropout)           (None, 4064256)           0         \n",
            "                                                                 \n",
            " dense (Dense)               (None, 64)                260112448 \n",
            "                                                                 \n",
            " dense_1 (Dense)             (None, 16)                1040      \n",
            "                                                                 \n",
            " dense_2 (Dense)             (None, 1)                 17        \n",
            "                                                                 \n",
            "=================================================================\n",
            "Total params: 260169825 (992.47 MB)\n",
            "Trainable params: 260169825 (992.47 MB)\n",
            "Non-trainable params: 0 (0.00 Byte)\n",
            "_________________________________________________________________\n",
            "date?\n",
            "                       ct  airq\n",
            "0           hanoi_quangan    79\n",
            "1            hanoi_conhue    51\n",
            "2          hanoi_xuandinh    58\n",
            "3            hanoi_cuanam    72\n",
            "4         hanoi_trangtien    43\n",
            "5         hanoi_thanhcong    35\n",
            "6          hanoi_trunghoa    29\n",
            "7           hanoi_caugiay    29\n",
            "8             hanoi_phumy    15\n",
            "9          hanoi_minhkhai    19\n",
            "10          hanoi_ngoclam    50\n",
            "11          hanoi_giathuy    45\n",
            "12      hanoi_thuongthanh    46\n",
            "13           hanoi_cukhoi    61\n",
            "14           hanoi_tuhiep    37\n",
            "15           hanoi_saison    32\n",
            "16         hanoi_lienquan    23\n",
            "17        hanoi_tt.socson    32\n",
            "18            hanoi_vanha    49\n",
            "19           phutho_vanco    36\n",
            "20     vinhphuc_ngocthanh    13\n",
            "21            bacninh_cho    28\n",
            "22        bacninh_suoihoa    31\n",
            "23         bacninh_caoduc    73\n",
            "24          hanam_trangan    66\n",
            "25       quangninh_kimson    18\n",
            "26     quangninh_thanhson    25\n",
            "27     quangninh_camtrung    24\n",
            "28      quangninh_quangha     5\n",
            "29       quangninh_hoalac     9\n",
            "30     quangninh_giengday    20\n",
            "31       quangninh_hongha    18\n",
            "32       haiphong_anhdung    41\n",
            "33        haiphong_cathai    26\n",
            "34        langson_chilang    56\n",
            "35         caobang_detham     4\n",
            "36        laocai_baothang    37\n",
            "37  thuathienhue_phunhuan    12\n",
            "38      danang_thachthang    11\n",
            "39       quangnam_thanhha    38\n",
            "40                 hcm_q1   146\n",
            "41                hcm_q10    61\n",
            "42           hcm_thaodien   116\n",
            "43             hcm_tanphu    74\n",
            "44              hcm_govap   151\n",
            "45                 danang    62\n",
            "46       quangninh_uongbi    67\n",
            "47               haiphong   146\n",
            "48                 halong    79\n",
            "49              daocathai   112\n",
            "50                  baria    75\n",
            "51                vungtau    64\n",
            "52            phuquoc_nam    80\n",
            "                ct  airq\n",
            "0     hanoi_tulien   108\n",
            "1    hanoi_quangan   160\n",
            "2    hanoi_xuantao    97\n",
            "3   hanoi_xuandinh   173\n",
            "4     hanoi_conhue   149\n",
            "5    hanoi_caugiay   155\n",
            "6    hanoi_ochodua   162\n",
            "7     hanoi_cuanam   170\n",
            "8    hanoi_hangbai   152\n",
            "9    hanoi_ngoclam   163\n",
            "10  hanoi_ngocthuy   165\n",
            "11  hanoi_minhkhai    63\n",
            "12     hanoi_tayho   171\n",
            "13   hanoi_vandien   132\n",
            "14    hanoi_socson    66\n",
            "15   hanoi_daidong   167\n",
            "16   hanoi_quocoai   108\n",
            "(53, 2) (17, 2)\n",
            "Epoch 1/40\n",
            "53/53 [==============================] - ETA: 0s - loss: 2208.1128 - mean_absolute_error: 33.0687 - root_mean_squared_error: 46.9906"
          ]
        },
        {
          "output_type": "stream",
          "name": "stderr",
          "text": [
            "/usr/local/lib/python3.10/dist-packages/keras/src/engine/training.py:3103: UserWarning: You are saving your model as an HDF5 file via `model.save()`. This file format is considered legacy. We recommend using instead the native Keras format, e.g. `model.save('my_model.keras')`.\n",
            "  saving_api.save_model(\n"
          ]
        },
        {
          "output_type": "stream",
          "name": "stdout",
          "text": [
            "\b\b\b\b\b\b\b\b\b\b\b\b\b\b\b\b\b\b\b\b\b\b\b\b\b\b\b\b\b\b\b\b\b\b\b\b\b\b\b\b\b\b\b\b\b\b\b\b\b\b\b\b\b\b\b\b\b\b\b\b\b\b\b\b\b\b\b\b\b\b\b\b\b\b\b\b\b\b\b\b\b\b\b\b\b\b\b\b\b\b\b\b\b\b\b\b\b\b\b\b\b\b\b\b\b\b\b\b\b\b\b\b\b\b\b\b\b\b\b\b\b\b\b\b\b\b\b\b\b\b\b\b\r53/53 [==============================] - 37s 556ms/step - loss: 2208.1128 - mean_absolute_error: 33.0687 - root_mean_squared_error: 46.9906 - val_loss: 9681.0361 - val_mean_absolute_error: 90.8214 - val_root_mean_squared_error: 98.3923\n",
            "Epoch 2/40\n",
            "53/53 [==============================] - 46s 877ms/step - loss: 1728.8763 - mean_absolute_error: 31.4166 - root_mean_squared_error: 41.5798 - val_loss: 14083.7783 - val_mean_absolute_error: 112.9355 - val_root_mean_squared_error: 118.6751\n",
            "Epoch 3/40\n",
            "53/53 [==============================] - 6s 114ms/step - loss: 1141.0653 - mean_absolute_error: 26.4224 - root_mean_squared_error: 33.7797 - val_loss: 13437.3135 - val_mean_absolute_error: 109.9416 - val_root_mean_squared_error: 115.9194\n",
            "Epoch 4/40\n",
            "53/53 [==============================] - 5s 103ms/step - loss: 809.7850 - mean_absolute_error: 21.4149 - root_mean_squared_error: 28.4567 - val_loss: 12337.2002 - val_mean_absolute_error: 104.4366 - val_root_mean_squared_error: 111.0729\n",
            "Epoch 5/40\n",
            "53/53 [==============================] - 5s 100ms/step - loss: 299.3294 - mean_absolute_error: 12.5105 - root_mean_squared_error: 17.3011 - val_loss: 13410.9355 - val_mean_absolute_error: 109.5927 - val_root_mean_squared_error: 115.8056\n",
            "Epoch 6/40\n",
            "53/53 [==============================] - 6s 110ms/step - loss: 287.2141 - mean_absolute_error: 12.5407 - root_mean_squared_error: 16.9474 - val_loss: 11819.6504 - val_mean_absolute_error: 102.4853 - val_root_mean_squared_error: 108.7182\n",
            "Epoch 7/40\n",
            "53/53 [==============================] - 5s 102ms/step - loss: 229.8759 - mean_absolute_error: 10.6244 - root_mean_squared_error: 15.1617 - val_loss: 10533.2773 - val_mean_absolute_error: 95.8414 - val_root_mean_squared_error: 102.6318\n",
            "Epoch 8/40\n",
            "53/53 [==============================] - 46s 886ms/step - loss: 373.8189 - mean_absolute_error: 13.1001 - root_mean_squared_error: 19.3344 - val_loss: 14637.1279 - val_mean_absolute_error: 115.4789 - val_root_mean_squared_error: 120.9840\n",
            "Epoch 9/40\n",
            "53/53 [==============================] - 5s 103ms/step - loss: 657.8094 - mean_absolute_error: 19.2724 - root_mean_squared_error: 25.6478 - val_loss: 8425.4775 - val_mean_absolute_error: 83.1185 - val_root_mean_squared_error: 91.7904\n",
            "Epoch 10/40\n",
            "53/53 [==============================] - 5s 102ms/step - loss: 428.9580 - mean_absolute_error: 13.4866 - root_mean_squared_error: 20.7113 - val_loss: 12256.5264 - val_mean_absolute_error: 104.3131 - val_root_mean_squared_error: 110.7092\n",
            "Epoch 11/40\n",
            "53/53 [==============================] - 6s 110ms/step - loss: 209.7620 - mean_absolute_error: 9.9629 - root_mean_squared_error: 14.4832 - val_loss: 9462.3906 - val_mean_absolute_error: 90.2589 - val_root_mean_squared_error: 97.2748\n",
            "Epoch 12/40\n",
            "53/53 [==============================] - 5s 102ms/step - loss: 136.3966 - mean_absolute_error: 8.8026 - root_mean_squared_error: 11.6789 - val_loss: 9424.7373 - val_mean_absolute_error: 90.0319 - val_root_mean_squared_error: 97.0811\n",
            "Epoch 13/40\n",
            "53/53 [==============================] - 5s 101ms/step - loss: 199.4072 - mean_absolute_error: 9.4917 - root_mean_squared_error: 14.1212 - val_loss: 9885.8428 - val_mean_absolute_error: 92.2129 - val_root_mean_squared_error: 99.4276\n",
            "Epoch 14/40\n",
            "53/53 [==============================] - 6s 105ms/step - loss: 51.2275 - mean_absolute_error: 5.1615 - root_mean_squared_error: 7.1573 - val_loss: 10819.1484 - val_mean_absolute_error: 96.9963 - val_root_mean_squared_error: 104.0151\n",
            "Epoch 15/40\n",
            "53/53 [==============================] - 5s 102ms/step - loss: 35.1106 - mean_absolute_error: 4.3825 - root_mean_squared_error: 5.9254 - val_loss: 11467.5107 - val_mean_absolute_error: 100.5679 - val_root_mean_squared_error: 107.0865\n",
            "Epoch 16/40\n",
            "53/53 [==============================] - 5s 102ms/step - loss: 24.1012 - mean_absolute_error: 3.7017 - root_mean_squared_error: 4.9093 - val_loss: 9715.0801 - val_mean_absolute_error: 91.4709 - val_root_mean_squared_error: 98.5651\n",
            "Epoch 17/40\n",
            "53/53 [==============================] - 6s 106ms/step - loss: 9.7698 - mean_absolute_error: 2.4878 - root_mean_squared_error: 3.1257 - val_loss: 10267.8633 - val_mean_absolute_error: 94.3107 - val_root_mean_squared_error: 101.3305\n",
            "Epoch 18/40\n",
            "53/53 [==============================] - 5s 101ms/step - loss: 6.8283 - mean_absolute_error: 1.7467 - root_mean_squared_error: 2.6131 - val_loss: 11080.4336 - val_mean_absolute_error: 98.6067 - val_root_mean_squared_error: 105.2636\n",
            "Epoch 19/40\n",
            "53/53 [==============================] - 6s 109ms/step - loss: 8.5599 - mean_absolute_error: 1.9777 - root_mean_squared_error: 2.9257 - val_loss: 10667.6357 - val_mean_absolute_error: 96.3869 - val_root_mean_squared_error: 103.2842\n",
            "Epoch 20/40\n",
            "53/53 [==============================] - 5s 103ms/step - loss: 14.5140 - mean_absolute_error: 2.5874 - root_mean_squared_error: 3.8097 - val_loss: 10984.2656 - val_mean_absolute_error: 98.0036 - val_root_mean_squared_error: 104.8058\n",
            "Epoch 21/40\n",
            "53/53 [==============================] - 5s 102ms/step - loss: 31.3945 - mean_absolute_error: 3.6752 - root_mean_squared_error: 5.6031 - val_loss: 11840.9697 - val_mean_absolute_error: 102.4649 - val_root_mean_squared_error: 108.8162\n",
            "Epoch 22/40\n",
            "53/53 [==============================] - 6s 105ms/step - loss: 46.5161 - mean_absolute_error: 5.0649 - root_mean_squared_error: 6.8203 - val_loss: 11198.4707 - val_mean_absolute_error: 99.2122 - val_root_mean_squared_error: 105.8228\n",
            "Epoch 23/40\n",
            "53/53 [==============================] - 5s 102ms/step - loss: 60.9753 - mean_absolute_error: 5.6609 - root_mean_squared_error: 7.8087 - val_loss: 13602.8457 - val_mean_absolute_error: 110.7880 - val_root_mean_squared_error: 116.6312\n",
            "Epoch 24/40\n",
            "53/53 [==============================] - 5s 102ms/step - loss: 79.0624 - mean_absolute_error: 6.1994 - root_mean_squared_error: 8.8917 - val_loss: 12030.2471 - val_mean_absolute_error: 103.3072 - val_root_mean_squared_error: 109.6825\n",
            "Epoch 25/40\n",
            "53/53 [==============================] - 6s 111ms/step - loss: 49.0849 - mean_absolute_error: 5.2075 - root_mean_squared_error: 7.0061 - val_loss: 11199.6826 - val_mean_absolute_error: 99.1611 - val_root_mean_squared_error: 105.8286\n",
            "Epoch 26/40\n",
            "53/53 [==============================] - 5s 102ms/step - loss: 54.2681 - mean_absolute_error: 5.3135 - root_mean_squared_error: 7.3667 - val_loss: 10498.3750 - val_mean_absolute_error: 95.5889 - val_root_mean_squared_error: 102.4616\n",
            "Epoch 27/40\n",
            "53/53 [==============================] - 5s 102ms/step - loss: 38.9799 - mean_absolute_error: 4.6050 - root_mean_squared_error: 6.2434 - val_loss: 8789.1025 - val_mean_absolute_error: 86.6887 - val_root_mean_squared_error: 93.7502\n",
            "Epoch 28/40\n",
            "53/53 [==============================] - 6s 105ms/step - loss: 119.9623 - mean_absolute_error: 8.0768 - root_mean_squared_error: 10.9527 - val_loss: 10695.2217 - val_mean_absolute_error: 96.5176 - val_root_mean_squared_error: 103.4177\n",
            "Epoch 29/40\n",
            "53/53 [==============================] - 5s 102ms/step - loss: 92.4251 - mean_absolute_error: 7.3603 - root_mean_squared_error: 9.6138 - val_loss: 11175.1875 - val_mean_absolute_error: 98.9998 - val_root_mean_squared_error: 105.7128\n",
            "Epoch 30/40\n",
            "53/53 [==============================] - 5s 103ms/step - loss: 68.7674 - mean_absolute_error: 6.2563 - root_mean_squared_error: 8.2926 - val_loss: 9754.9365 - val_mean_absolute_error: 91.4233 - val_root_mean_squared_error: 98.7671\n",
            "Epoch 31/40\n",
            "53/53 [==============================] - 5s 102ms/step - loss: 122.8542 - mean_absolute_error: 8.4138 - root_mean_squared_error: 11.0840 - val_loss: 9647.4482 - val_mean_absolute_error: 90.7527 - val_root_mean_squared_error: 98.2214\n",
            "Epoch 32/40\n",
            "53/53 [==============================] - 5s 101ms/step - loss: 126.0635 - mean_absolute_error: 8.7507 - root_mean_squared_error: 11.2278 - val_loss: 7808.1772 - val_mean_absolute_error: 81.5891 - val_root_mean_squared_error: 88.3639\n",
            "Epoch 33/40\n",
            "53/53 [==============================] - 6s 104ms/step - loss: 363.9884 - mean_absolute_error: 14.0321 - root_mean_squared_error: 19.0785 - val_loss: 12765.1953 - val_mean_absolute_error: 106.6965 - val_root_mean_squared_error: 112.9832\n",
            "Epoch 34/40\n",
            "53/53 [==============================] - 48s 915ms/step - loss: 258.5782 - mean_absolute_error: 11.8102 - root_mean_squared_error: 16.0804 - val_loss: 14799.0000 - val_mean_absolute_error: 116.1084 - val_root_mean_squared_error: 121.6511\n",
            "Epoch 35/40\n",
            "53/53 [==============================] - 6s 104ms/step - loss: 174.5439 - mean_absolute_error: 10.0462 - root_mean_squared_error: 13.2115 - val_loss: 9942.0078 - val_mean_absolute_error: 92.3234 - val_root_mean_squared_error: 99.7096\n",
            "Epoch 36/40\n",
            "53/53 [==============================] - 5s 102ms/step - loss: 102.1760 - mean_absolute_error: 8.2628 - root_mean_squared_error: 10.1082 - val_loss: 10283.8867 - val_mean_absolute_error: 94.3597 - val_root_mean_squared_error: 101.4095\n",
            "Epoch 37/40\n",
            "53/53 [==============================] - 5s 102ms/step - loss: 29.4271 - mean_absolute_error: 4.1936 - root_mean_squared_error: 5.4247 - val_loss: 10756.3350 - val_mean_absolute_error: 96.7411 - val_root_mean_squared_error: 103.7128\n",
            "Epoch 38/40\n",
            "53/53 [==============================] - 6s 105ms/step - loss: 19.2938 - mean_absolute_error: 3.3819 - root_mean_squared_error: 4.3925 - val_loss: 10568.7188 - val_mean_absolute_error: 95.8389 - val_root_mean_squared_error: 102.8043\n",
            "Epoch 39/40\n",
            "53/53 [==============================] - 5s 102ms/step - loss: 13.7260 - mean_absolute_error: 2.7672 - root_mean_squared_error: 3.7049 - val_loss: 11033.7119 - val_mean_absolute_error: 98.2757 - val_root_mean_squared_error: 105.0415\n",
            "Epoch 40/40\n",
            "53/53 [==============================] - 5s 101ms/step - loss: 9.4780 - mean_absolute_error: 2.2513 - root_mean_squared_error: 3.0786 - val_loss: 11722.2363 - val_mean_absolute_error: 101.7057 - val_root_mean_squared_error: 108.2693\n"
          ]
        },
        {
          "output_type": "display_data",
          "data": {
            "text/plain": [
              "<Figure size 640x480 with 1 Axes>"
            ],
            "image/png": "[encoded data removed]"
          },
          "metadata": {}
        }
      ]
    },
    {
      "cell_type": "code",
      "source": [
        "if __name__ == \"__main__\":\n",
        "  print('vowlr')\n",
        "  tf.keras.backend.clear_session()\n",
        "\n",
        "  model = build_model(True)\n",
        "  model.load_weights('macbeth.hdf5')\n",
        "\n",
        "  x = reformat_mask_for_pred('./hanoi_xuantao.png')\n",
        "  #print(x)\n",
        "  y = model.predict(x)\n",
        "  print(y[0])"
      ],
      "metadata": {
        "id": "jhaw_UVCqIMj",
        "colab": {
          "base_uri": "https://localhost:8080/"
        },
        "outputId": "8a9d3be4-0fbc-4734-eb2e-0669a170e266"
      },
      "execution_count": 13,
      "outputs": [
        {
          "output_type": "stream",
          "name": "stdout",
          "text": [
            "vowlr\n",
            "Model: \"sequential\"\n",
            "_________________________________________________________________\n",
            " Layer (type)                Output Shape              Param #   \n",
            "=================================================================\n",
            " conv2d (Conv2D)             (None, 1022, 1022, 32)    896       \n",
            "                                                                 \n",
            " max_pooling2d (MaxPooling2  (None, 511, 511, 32)      0         \n",
            " D)                                                              \n",
            "                                                                 \n",
            " conv2d_1 (Conv2D)           (None, 509, 509, 64)      18496     \n",
            "                                                                 \n",
            " max_pooling2d_1 (MaxPoolin  (None, 254, 254, 64)      0         \n",
            " g2D)                                                            \n",
            "                                                                 \n",
            " conv2d_2 (Conv2D)           (None, 252, 252, 64)      36928     \n",
            "                                                                 \n",
            " flatten (Flatten)           (None, 4064256)           0         \n",
            "                                                                 \n",
            " dropout (Dropout)           (None, 4064256)           0         \n",
            "                                                                 \n",
            " dense (Dense)               (None, 64)                260112448 \n",
            "                                                                 \n",
            " dense_1 (Dense)             (None, 16)                1040      \n",
            "                                                                 \n",
            " dense_2 (Dense)             (None, 1)                 17        \n",
            "                                                                 \n",
            "=================================================================\n",
            "Total params: 260169825 (992.47 MB)\n",
            "Trainable params: 260169825 (992.47 MB)\n",
            "Non-trainable params: 0 (0.00 Byte)\n",
            "_________________________________________________________________\n",
            "1/1 [==============================] - 0s 178ms/step\n",
            "[23.974451]\n"
          ]
        }
      ]
    },
    {
      "cell_type": "code",
      "source": [
        "!zip -r './file.zip' './earth_pics/'"
      ],
      "metadata": {
        "colab": {
          "base_uri": "https://localhost:8080/"
        },
        "id": "Q3kI3j0Y4UT-",
        "outputId": "e23d2fd8-dd1f-42fe-93db-a2acb973be1b"
      },
      "execution_count": null,
      "outputs": [
        {
          "output_type": "stream",
          "name": "stdout",
          "text": [
            "  adding: earth_pics/ (stored 0%)\n",
            "  adding: earth_pics/hanoi_conhue.jpg (deflated 9%)\n",
            "  adding: earth_pics/hanoi_cuanam.jpg (deflated 1%)\n",
            "  adding: earth_pics/hcm_tanphu.jpg (deflated 2%)\n",
            "  adding: earth_pics/hanoi_socson.jpg (deflated 8%)\n",
            "  adding: earth_pics/hanoi_tulien.jpg (deflated 4%)\n",
            "  adding: earth_pics/hanoi_minhkhai.jpg (deflated 0%)\n",
            "  adding: earth_pics/hcm_govap.jpg (deflated 0%)\n",
            "  adding: earth_pics/phuquoc_nam.jpg (deflated 9%)\n",
            "  adding: earth_pics/quangninh_uongbi.jpg (deflated 2%)\n",
            "  adding: earth_pics/hanoi_quangan.jpg (deflated 16%)\n",
            "  adding: earth_pics/hanoi_caugiay.jpg (deflated 1%)\n",
            "  adding: earth_pics/hanoi_vandien.jpg (deflated 2%)\n",
            "  adding: earth_pics/hcm_q10.jpg (deflated 0%)\n",
            "  adding: earth_pics/hanoi_tayho.jpg (deflated 6%)\n",
            "  adding: earth_pics/hanoi_ngoclam.jpg (deflated 1%)\n",
            "  adding: earth_pics/hanoi_quocoai.jpg (deflated 4%)\n",
            "  adding: earth_pics/danang.jpg (deflated 0%)\n",
            "  adding: earth_pics/baria.jpg (deflated 1%)\n",
            "  adding: earth_pics/halong.jpg (deflated 5%)\n",
            "  adding: earth_pics/vungtau.jpg (deflated 1%)\n",
            "  adding: earth_pics/hanoi_xuantao.jpg (deflated 5%)\n",
            "  adding: earth_pics/haiphong.jpg (deflated 1%)\n",
            "  adding: earth_pics/hanoi_ngocthuy.jpg (deflated 2%)\n",
            "  adding: earth_pics/hanoi_xuandinh.jpg (deflated 5%)\n",
            "  adding: earth_pics/hanoi_hangbai.jpg (deflated 1%)\n",
            "  adding: earth_pics/hcm_thaodien.jpg (deflated 2%)\n",
            "  adding: earth_pics/hanoi_ochodua.jpg (deflated 1%)\n",
            "  adding: earth_pics/hcm_q1.jpg (deflated 1%)\n",
            "  adding: earth_pics/hanoi_daidong.jpg (deflated 11%)\n",
            "  adding: earth_pics/daocathai.jpg (deflated 13%)\n"
          ]
        }
      ]
    },
    {
      "cell_type": "code",
      "source": [
        "from google.colab import files\n",
        "files.download(\"./macbeth.hdf5\")"
      ],
      "metadata": {
        "colab": {
          "base_uri": "https://localhost:8080/",
          "height": 17
        },
        "id": "Z6daIMwk4jxa",
        "outputId": "6e76c739-4b61-467c-8d87-8192cf5b68e8"
      },
      "execution_count": 51,
      "outputs": [
        {
          "output_type": "display_data",
          "data": {
            "text/plain": [
              "<IPython.core.display.Javascript object>"
            ],
            "application/javascript": [
              "\n",
              "    async function download(id, filename, size) {\n",
              "      if (!google.colab.kernel.accessAllowed) {\n",
              "        return;\n",
              "      }\n",
              "      const div = document.createElement('div');\n",
              "      const label = document.createElement('label');\n",
              "      label.textContent = `Downloading \"${filename}\": `;\n",
              "      div.appendChild(label);\n",
              "      const progress = document.createElement('progress');\n",
              "      progress.max = size;\n",
              "      div.appendChild(progress);\n",
              "      document.body.appendChild(div);\n",
              "\n",
              "      const buffers = [];\n",
              "      let downloaded = 0;\n",
              "\n",
              "      const channel = await google.colab.kernel.comms.open(id);\n",
              "      // Send a message to notify the kernel that we're ready.\n",
              "      channel.send({})\n",
              "\n",
              "      for await (const message of channel.messages) {\n",
              "        // Send a message to notify the kernel that we're ready.\n",
              "        channel.send({})\n",
              "        if (message.buffers) {\n",
              "          for (const buffer of message.buffers) {\n",
              "            buffers.push(buffer);\n",
              "            downloaded += buffer.byteLength;\n",
              "            progress.value = downloaded;\n",
              "          }\n",
              "        }\n",
              "      }\n",
              "      const blob = new Blob(buffers, {type: 'application/binary'});\n",
              "      const a = document.createElement('a');\n",
              "      a.href = window.URL.createObjectURL(blob);\n",
              "      a.download = filename;\n",
              "      div.appendChild(a);\n",
              "      a.click();\n",
              "      div.remove();\n",
              "    }\n",
              "  "
            ]
          },
          "metadata": {}
        },
        {
          "output_type": "display_data",
          "data": {
            "text/plain": [
              "<IPython.core.display.Javascript object>"
            ],
            "application/javascript": [
              "download(\"download_0fc33080-1ae4-494d-b5e6-4fe665b0a787\", \"macbeth.hdf5\", 504345616)"
            ]
          },
          "metadata": {}
        }
      ]
    }
  ]
}