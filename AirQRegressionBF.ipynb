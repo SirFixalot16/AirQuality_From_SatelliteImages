{
  "nbformat": 4,
  "nbformat_minor": 0,
  "metadata": {
    "colab": {
      "provenance": [],
      "gpuType": "T4"
    },
    "kernelspec": {
      "name": "python3",
      "display_name": "Python 3"
    },
    "language_info": {
      "name": "python"
    },
    "accelerator": "GPU"
  },
  "cells": [
    {
      "cell_type": "code",
      "execution_count": 1,
      "metadata": {
        "id": "lgRuM1YOZ1rb"
      },
      "outputs": [],
      "source": [
        "import numpy as np\n",
        "import pandas as pd\n",
        "import seaborn as sns\n",
        "import matplotlib.pyplot as plt\n",
        "\n",
        "import tensorflow as tf\n",
        "from keras import models\n",
        "from keras import layers\n",
        "from keras import metrics\n",
        "from keras.callbacks import EarlyStopping, ModelCheckpoint\n",
        "\n",
        "import pathlib\n",
        "import cv2\n",
        "import pandas\n",
        "\n"
      ]
    },
    {
      "cell_type": "code",
      "source": [
        "from google.colab import drive\n",
        "drive.mount('/content/drive')"
      ],
      "metadata": {
        "colab": {
          "base_uri": "https://localhost:8080/"
        },
        "id": "X2SLYPHovXxX",
        "outputId": "0cbd15c3-5e98-4be0-a468-48accbad575f"
      },
      "execution_count": 2,
      "outputs": [
        {
          "output_type": "stream",
          "name": "stdout",
          "text": [
            "Mounted at /content/drive\n"
          ]
        }
      ]
    },
    {
      "cell_type": "code",
      "source": [
        "print(\"Num GPUs Available: \", len(tf.config.list_physical_devices('GPU')))"
      ],
      "metadata": {
        "colab": {
          "base_uri": "https://localhost:8080/"
        },
        "id": "qRqsw5vnaKSK",
        "outputId": "5429d507-48a4-4374-c604-126d522ce52d"
      },
      "execution_count": 3,
      "outputs": [
        {
          "output_type": "stream",
          "name": "stdout",
          "text": [
            "Num GPUs Available:  1\n"
          ]
        }
      ]
    },
    {
      "cell_type": "code",
      "source": [
        "!ls"
      ],
      "metadata": {
        "colab": {
          "base_uri": "https://localhost:8080/"
        },
        "id": "8wxkC-kqwlR6",
        "outputId": "285231b0-6e9a-4dda-f487-7236de146b52"
      },
      "execution_count": 5,
      "outputs": [
        {
          "output_type": "stream",
          "name": "stdout",
          "text": [
            "drive\t    final_vlad\tsample_data\ttest_images  test_roads\n",
            "final_mask  PM2.5.csv\ttest_buildings\ttest_masks   vlad.csv\n"
          ]
        }
      ]
    },
    {
      "cell_type": "code",
      "source": [
        "!unzip -n './drive/MyDrive/models/mearth.zip'\n",
        "!unzip -n './drive/MyDrive/models/test_set.zip'"
      ],
      "metadata": {
        "colab": {
          "base_uri": "https://localhost:8080/"
        },
        "id": "_p6DRYmAaspP",
        "outputId": "3586da49-abd5-4691-cec2-dcafe17ba249"
      },
      "execution_count": 4,
      "outputs": [
        {
          "output_type": "stream",
          "name": "stdout",
          "text": [
            "Archive:  ./drive/MyDrive/models/mearth.zip\n",
            "  inflating: final_mask/bacninh_caoduc.png  \n",
            "  inflating: final_mask/bacninh_cho.png  \n",
            "  inflating: final_mask/bacninh_suoihoa.png  \n",
            "  inflating: final_mask/baria.png    \n",
            "  inflating: final_mask/caobang_detham.png  \n",
            "  inflating: final_mask/danang.png   \n",
            "  inflating: final_mask/danang_thachthang.png  \n",
            "  inflating: final_mask/daocathai.png  \n",
            "  inflating: final_mask/haiphong.png  \n",
            "  inflating: final_mask/haiphong_anhdung.png  \n",
            "  inflating: final_mask/haiphong_cathai.png  \n",
            "  inflating: final_mask/halong.png   \n",
            "  inflating: final_mask/hanam_trangan.png  \n",
            "  inflating: final_mask/hanoi_caugiay.png  \n",
            "  inflating: final_mask/hanoi_conhue.png  \n",
            "  inflating: final_mask/hanoi_cuanam.png  \n",
            "  inflating: final_mask/hanoi_cukhoi.png  \n",
            "  inflating: final_mask/hanoi_giathuy.png  \n",
            "  inflating: final_mask/hanoi_lienquan.png  \n",
            "  inflating: final_mask/hanoi_minhkhai.png  \n",
            "  inflating: final_mask/hanoi_ngoclam.png  \n",
            "  inflating: final_mask/hanoi_phumy.png  \n",
            "  inflating: final_mask/hanoi_quangan.png  \n",
            "  inflating: final_mask/hanoi_saison.png  \n",
            "  inflating: final_mask/hanoi_thanhcong.png  \n",
            "  inflating: final_mask/hanoi_thuongthanh.png  \n",
            "  inflating: final_mask/hanoi_trangtien.png  \n",
            "  inflating: final_mask/hanoi_trunghoa.png  \n",
            "  inflating: final_mask/hanoi_tt.socson.png  \n",
            "  inflating: final_mask/hanoi_tuhiep.png  \n",
            "  inflating: final_mask/hanoi_vanha.png  \n",
            "  inflating: final_mask/hanoi_xuandinh.png  \n",
            "  inflating: final_mask/hcm_govap.png  \n",
            "  inflating: final_mask/hcm_q1.png   \n",
            "  inflating: final_mask/hcm_q10.png  \n",
            "  inflating: final_mask/hcm_tanphu.png  \n",
            "  inflating: final_mask/hcm_thaodien.png  \n",
            "  inflating: final_mask/langson_chilang.png  \n",
            "  inflating: final_mask/laocai_baothang.png  \n",
            "  inflating: final_mask/phuquoc_nam.png  \n",
            "  inflating: final_mask/phutho_vanco.png  \n",
            "  inflating: final_mask/quangnam_thanhha.png  \n",
            "  inflating: final_mask/quangninh_camtrung.png  \n",
            "  inflating: final_mask/quangninh_giengday.png  \n",
            "  inflating: final_mask/quangninh_hoalac.png  \n",
            "  inflating: final_mask/quangninh_hongha.png  \n",
            "  inflating: final_mask/quangninh_kimson.png  \n",
            "  inflating: final_mask/quangninh_quangha.png  \n",
            "  inflating: final_mask/quangninh_thanhson.png  \n",
            "  inflating: final_mask/quangninh_uongbi.png  \n",
            "  inflating: final_mask/thuathienhue_phunhuan.png  \n",
            "  inflating: final_mask/vinhphuc_ngocthanh.png  \n",
            "  inflating: final_mask/vungtau.png  \n",
            "  inflating: final_vlad/hanoi_caugiay.png  \n",
            "  inflating: final_vlad/hanoi_conhue.png  \n",
            "  inflating: final_vlad/hanoi_cuanam.png  \n",
            "  inflating: final_vlad/hanoi_daidong.png  \n",
            "  inflating: final_vlad/hanoi_hangbai.png  \n",
            "  inflating: final_vlad/hanoi_minhkhai.png  \n",
            "  inflating: final_vlad/hanoi_ngoclam.png  \n",
            "  inflating: final_vlad/hanoi_ngocthuy.png  \n",
            "  inflating: final_vlad/hanoi_ochodua.png  \n",
            "  inflating: final_vlad/hanoi_quangan.png  \n",
            "  inflating: final_vlad/hanoi_quocoai.png  \n",
            "  inflating: final_vlad/hanoi_socson.png  \n",
            "  inflating: final_vlad/hanoi_tayho.png  \n",
            "  inflating: final_vlad/hanoi_tulien.png  \n",
            "  inflating: final_vlad/hanoi_vandien.png  \n",
            "  inflating: final_vlad/hanoi_xuandinh.png  \n",
            "  inflating: final_vlad/hanoi_xuantao.png  \n",
            "  inflating: PM2.5.csv               \n",
            "  inflating: vlad.csv                \n",
            "Archive:  ./drive/MyDrive/models/test_set.zip\n",
            "  inflating: test_buildings/coloa.jpg  \n",
            "  inflating: test_buildings/khudothitayho.jpg  \n",
            "  inflating: test_buildings/metriha.jpg  \n",
            "  inflating: test_buildings/todanphoso2.jpg  \n",
            "  inflating: test_buildings/xommoi.jpg  \n",
            "  inflating: test_images/coloa.jpg   \n",
            "  inflating: test_images/khudothitayho.jpg  \n",
            "  inflating: test_images/metriha.jpg  \n",
            "  inflating: test_images/todanphoso2.jpg  \n",
            "  inflating: test_images/xommoi.jpg  \n",
            "  inflating: test_masks/coloa.png    \n",
            "  inflating: test_masks/khudothitayho.png  \n",
            "  inflating: test_masks/metriha.png  \n",
            "  inflating: test_masks/todanphoso2.png  \n",
            "  inflating: test_masks/xommoi.png   \n",
            "  inflating: test_roads/coloa.jpg    \n",
            "  inflating: test_roads/khudothitayho.jpg  \n",
            "  inflating: test_roads/metriha.jpg  \n",
            "  inflating: test_roads/todanphoso2.jpg  \n",
            "  inflating: test_roads/xommoi.jpg   \n"
          ]
        }
      ]
    },
    {
      "cell_type": "code",
      "source": [
        "# Parametres\n",
        "train = pathlib.Path(r'./PM2.5.csv')\n",
        "valid = pathlib.Path(r'./vlad.csv')\n",
        "altitude = 2.4"
      ],
      "metadata": {
        "id": "6cvBtvMUaie1"
      },
      "execution_count": 6,
      "outputs": []
    },
    {
      "cell_type": "code",
      "source": [
        "def get_data():\n",
        "    print('date?')\n",
        "    dataframe1 = pandas.read_csv(train, delimiter=',', names=[\"ct\", \"airq\"])\n",
        "    dataframe2 = pandas.read_csv(valid, delimiter=',', names=[\"ct\", \"airq\"])\n",
        "    print(dataframe1)\n",
        "    print(dataframe2)\n",
        "    l_train = np.asarray(dataframe1)\n",
        "    l_valid = np.asarray(dataframe2)\n",
        "    print(l_train.shape, l_valid.shape)\n",
        "    x_train, y_train = l_train[:, 0], l_train[:, 1]\n",
        "    x_valid, y_valid = l_valid[:, 0], l_valid[:, 1]\n",
        "    y_train = y_train.astype('float32')\n",
        "    y_valid = y_valid.astype('float32')\n",
        "    images_train = np.zeros(shape=(len(l_train), 1024, 1024, 3))\n",
        "    images_valid = np.zeros(shape=(len(l_valid), 1024, 1024, 3))\n",
        "    for i in range(len(l_train)):\n",
        "        #print('./final_mask/'+x_train[i]+'.png')\n",
        "        im = cv2.imread('./final_mask/'+x_train[i]+'.png')\n",
        "        im = cv2.cvtColor(im, cv2.COLOR_BGR2RGB)\n",
        "        im = cv2.resize(im, (1024, 1024), interpolation = cv2.INTER_LANCZOS4)\n",
        "        im = np.expand_dims(im, axis=0)\n",
        "        #im = cv2.cvtColor(im, cv2.COLOR_BGR2GRAY)\n",
        "        images_train[i] = np.asarray(im)#.astype('float32')\n",
        "        #print(images_train[i])\n",
        "        images_train[i] = images_train[i]/255\n",
        "        #print(images_train[i])\n",
        "    for i in range(len(l_valid)):\n",
        "        im = cv2.imread('./final_vlad/'+x_valid[i]+'.png')\n",
        "        im = cv2.cvtColor(im, cv2.COLOR_BGR2RGB)\n",
        "        im = cv2.resize(im, (1024, 1024), interpolation = cv2.INTER_LANCZOS4)\n",
        "        im = np.expand_dims(im, axis=0)\n",
        "        #im = cv2.cvtColor(im, cv2.COLOR_BGR2GRAY)\n",
        "        images_valid[i] = np.asarray(im)#.astype('float32')\n",
        "        #print(images_valid[i])\n",
        "        images_valid[i] = images_valid[i]/255\n",
        "        #print(images_valid[i])\n",
        "    return images_train, y_train, images_valid, y_valid"
      ],
      "metadata": {
        "id": "ft0AwkGqaeya"
      },
      "execution_count": 7,
      "outputs": []
    },
    {
      "cell_type": "code",
      "source": [
        "def build_model(com):\n",
        "\n",
        "    model = models.Sequential()\n",
        "    model.add(layers.Conv2D(32, (3, 3), activation='relu', input_shape=(1024, 1024, 3)))\n",
        "    model.add(layers.MaxPooling2D((2, 2)))\n",
        "    model.add(layers.Conv2D(64, (3, 3), activation='relu'))\n",
        "    model.add(layers.MaxPooling2D((2, 2)))\n",
        "    model.add(layers.Conv2D(64, (3, 3), activation='relu'))\n",
        "    model.add(layers.Flatten())\n",
        "    model.add(layers.Dropout(0.5))\n",
        "    model.add(layers.Dense(64, activation='relu'))\n",
        "    model.add(layers.Dense(16, activation='relu'))\n",
        "    model.add(layers.Dense(1, activation=None))\n",
        "\n",
        "    if com == True:\n",
        "      model.compile(\n",
        "          optimizer='adam',\n",
        "          #optimizer='rmsprop',\n",
        "          loss='mse',\n",
        "          metrics=[metrics.MeanAbsoluteError(), metrics.RootMeanSquaredError()])\n",
        "    model.summary()\n",
        "\n",
        "    return model"
      ],
      "metadata": {
        "id": "y_sM6XIqaFX4"
      },
      "execution_count": 8,
      "outputs": []
    },
    {
      "cell_type": "code",
      "source": [
        "def train_model(model):\n",
        "  save_at = \"macbeth.hdf5\"\n",
        "  save_best2 = ModelCheckpoint (save_at, monitor='val_mean_absolute_error', verbose=0, save_best_only=True, save_weights_only=False, mode='max')\n",
        "\n",
        "  x_train, y_train, x_test, y_test = get_data()\n",
        "\n",
        "\n",
        "  # Run model and get metrics for each epoch\n",
        "  history = model.fit(\n",
        "      x_train,\n",
        "      y_train,\n",
        "      callbacks=[\n",
        "          #EarlyStopping(monitor='val_mean_absolute_error', patience=5, restore_best_weights=True)\n",
        "          save_best2\n",
        "          ],\n",
        "      epochs=30,\n",
        "      batch_size=1,\n",
        "      validation_data=(x_test, y_test)\n",
        "      )\n",
        "\n",
        "  return history"
      ],
      "metadata": {
        "id": "08cN1rk_aV6T"
      },
      "execution_count": 9,
      "outputs": []
    },
    {
      "cell_type": "code",
      "source": [
        "def loss_plot(history):\n",
        "    plt.plot(history.history['loss'])\n",
        "    plt.plot(history.history['val_loss'])\n",
        "    plt.title('model loss')\n",
        "    plt.ylabel('loss')\n",
        "    plt.xlabel('epoch')\n",
        "    plt.legend(['train', 'val'], loc='upper left')\n",
        "    plt.show()"
      ],
      "metadata": {
        "id": "KB61bPxFcjVa"
      },
      "execution_count": 11,
      "outputs": []
    },
    {
      "cell_type": "code",
      "source": [
        "def reformat_mask_for_pred(img):\n",
        "  im = cv2.imread(img)\n",
        "  im = cv2.cvtColor(im, cv2.COLOR_BGR2RGB)\n",
        "  im = cv2.resize(im, (1024, 1024), interpolation = cv2.INTER_LANCZOS4)     # resize image to match model's expected sizing\n",
        "  x = np.expand_dims(im, axis=0)\n",
        "  #x = np.zeros(shape=(1, 1024, 1024, 3))\n",
        "  #x = np.asarray(im)\n",
        "  x = x/255\n",
        "  #print(x)\n",
        "  return x"
      ],
      "metadata": {
        "id": "lW1GrySrrxly"
      },
      "execution_count": 12,
      "outputs": []
    },
    {
      "cell_type": "code",
      "source": [
        "if __name__ == \"__main__\":\n",
        "    print('vowlr')\n",
        "    tf.keras.backend.clear_session()\n",
        "\n",
        "    model1path = './drive/MyDrive/models/'\n",
        "\n",
        "    #model1 = build_model1(model1path)\n",
        "    #generate_pred_model1(model1)\n",
        "\n",
        "    #model = build_model(True)\n",
        "    #model.load_weights('macbeth.hdf5')\n",
        "    #history = train_model(model)\n",
        "    #loss_plot(history)\n",
        "\n",
        "    mode = build_model(True)\n",
        "    his = train_model(mode)\n",
        "    loss_plot(his)"
      ],
      "metadata": {
        "colab": {
          "base_uri": "https://localhost:8080/",
          "height": 1000
        },
        "id": "qnXAC2B8dLPz",
        "outputId": "d93bff25-b298-4f79-80d4-5ac405f4b00d"
      },
      "execution_count": 13,
      "outputs": [
        {
          "output_type": "stream",
          "name": "stdout",
          "text": [
            "vowlr\n",
            "Model: \"sequential\"\n",
            "_________________________________________________________________\n",
            " Layer (type)                Output Shape              Param #   \n",
            "=================================================================\n",
            " conv2d (Conv2D)             (None, 1022, 1022, 32)    896       \n",
            "                                                                 \n",
            " max_pooling2d (MaxPooling2  (None, 511, 511, 32)      0         \n",
            " D)                                                              \n",
            "                                                                 \n",
            " conv2d_1 (Conv2D)           (None, 509, 509, 64)      18496     \n",
            "                                                                 \n",
            " max_pooling2d_1 (MaxPoolin  (None, 254, 254, 64)      0         \n",
            " g2D)                                                            \n",
            "                                                                 \n",
            " conv2d_2 (Conv2D)           (None, 252, 252, 64)      36928     \n",
            "                                                                 \n",
            " flatten (Flatten)           (None, 4064256)           0         \n",
            "                                                                 \n",
            " dropout (Dropout)           (None, 4064256)           0         \n",
            "                                                                 \n",
            " dense (Dense)               (None, 64)                260112448 \n",
            "                                                                 \n",
            " dense_1 (Dense)             (None, 16)                1040      \n",
            "                                                                 \n",
            " dense_2 (Dense)             (None, 1)                 17        \n",
            "                                                                 \n",
            "=================================================================\n",
            "Total params: 260169825 (992.47 MB)\n",
            "Trainable params: 260169825 (992.47 MB)\n",
            "Non-trainable params: 0 (0.00 Byte)\n",
            "_________________________________________________________________\n",
            "date?\n",
            "                       ct  airq\n",
            "0           hanoi_quangan    79\n",
            "1            hanoi_conhue    51\n",
            "2          hanoi_xuandinh    58\n",
            "3            hanoi_cuanam    72\n",
            "4         hanoi_trangtien    43\n",
            "5         hanoi_thanhcong    35\n",
            "6          hanoi_trunghoa    29\n",
            "7           hanoi_caugiay    29\n",
            "8             hanoi_phumy    15\n",
            "9          hanoi_minhkhai    19\n",
            "10          hanoi_ngoclam    50\n",
            "11          hanoi_giathuy    45\n",
            "12      hanoi_thuongthanh    46\n",
            "13           hanoi_cukhoi    61\n",
            "14           hanoi_tuhiep    37\n",
            "15           hanoi_saison    32\n",
            "16         hanoi_lienquan    23\n",
            "17        hanoi_tt.socson    32\n",
            "18            hanoi_vanha    49\n",
            "19           phutho_vanco    36\n",
            "20     vinhphuc_ngocthanh    13\n",
            "21            bacninh_cho    28\n",
            "22        bacninh_suoihoa    31\n",
            "23         bacninh_caoduc    73\n",
            "24          hanam_trangan    66\n",
            "25       quangninh_kimson    18\n",
            "26     quangninh_thanhson    25\n",
            "27     quangninh_camtrung    24\n",
            "28      quangninh_quangha     5\n",
            "29       quangninh_hoalac     9\n",
            "30     quangninh_giengday    20\n",
            "31       quangninh_hongha    18\n",
            "32       haiphong_anhdung    41\n",
            "33        haiphong_cathai    26\n",
            "34        langson_chilang    56\n",
            "35         caobang_detham     4\n",
            "36        laocai_baothang    37\n",
            "37  thuathienhue_phunhuan    12\n",
            "38      danang_thachthang    11\n",
            "39       quangnam_thanhha    38\n",
            "40                 hcm_q1   146\n",
            "41                hcm_q10    61\n",
            "42           hcm_thaodien   116\n",
            "43             hcm_tanphu    74\n",
            "44              hcm_govap   151\n",
            "45                 danang    62\n",
            "46       quangninh_uongbi    67\n",
            "47               haiphong   146\n",
            "48                 halong    79\n",
            "49              daocathai   112\n",
            "50                  baria    75\n",
            "51                vungtau    64\n",
            "52            phuquoc_nam    80\n",
            "                ct  airq\n",
            "0     hanoi_tulien   108\n",
            "1    hanoi_quangan   160\n",
            "2    hanoi_xuantao    97\n",
            "3   hanoi_xuandinh   173\n",
            "4     hanoi_conhue   149\n",
            "5    hanoi_caugiay   155\n",
            "6    hanoi_ochodua   162\n",
            "7     hanoi_cuanam   170\n",
            "8    hanoi_hangbai   152\n",
            "9    hanoi_ngoclam   163\n",
            "10  hanoi_ngocthuy   165\n",
            "11  hanoi_minhkhai    63\n",
            "12     hanoi_tayho   171\n",
            "13   hanoi_vandien   132\n",
            "14    hanoi_socson    66\n",
            "15   hanoi_daidong   167\n",
            "16   hanoi_quocoai   108\n",
            "(53, 2) (17, 2)\n",
            "Epoch 1/30\n",
            "53/53 [==============================] - ETA: 0s - loss: 2504.3738 - mean_absolute_error: 38.4433 - root_mean_squared_error: 50.0437"
          ]
        },
        {
          "output_type": "stream",
          "name": "stderr",
          "text": [
            "/usr/local/lib/python3.10/dist-packages/keras/src/engine/training.py:3103: UserWarning: You are saving your model as an HDF5 file via `model.save()`. This file format is considered legacy. We recommend using instead the native Keras format, e.g. `model.save('my_model.keras')`.\n",
            "  saving_api.save_model(\n"
          ]
        },
        {
          "output_type": "stream",
          "name": "stdout",
          "text": [
            "\b\b\b\b\b\b\b\b\b\b\b\b\b\b\b\b\b\b\b\b\b\b\b\b\b\b\b\b\b\b\b\b\b\b\b\b\b\b\b\b\b\b\b\b\b\b\b\b\b\b\b\b\b\b\b\b\b\b\b\b\b\b\b\b\b\b\b\b\b\b\b\b\b\b\b\b\b\b\b\b\b\b\b\b\b\b\b\b\b\b\b\b\b\b\b\b\b\b\b\b\b\b\b\b\b\b\b\b\b\b\b\b\b\b\b\b\b\b\b\b\b\b\b\b\b\b\b\b\b\b\b\b\r53/53 [==============================] - 55s 905ms/step - loss: 2504.3738 - mean_absolute_error: 38.4433 - root_mean_squared_error: 50.0437 - val_loss: 15248.3193 - val_mean_absolute_error: 118.0311 - val_root_mean_squared_error: 123.4841\n",
            "Epoch 2/30\n",
            "53/53 [==============================] - 5s 100ms/step - loss: 1542.8608 - mean_absolute_error: 29.9801 - root_mean_squared_error: 39.2793 - val_loss: 5488.7251 - val_mean_absolute_error: 66.0196 - val_root_mean_squared_error: 74.0859\n",
            "Epoch 3/30\n",
            "53/53 [==============================] - 5s 103ms/step - loss: 1112.8173 - mean_absolute_error: 25.3190 - root_mean_squared_error: 33.3589 - val_loss: 10483.9648 - val_mean_absolute_error: 95.6423 - val_root_mean_squared_error: 102.3912\n",
            "Epoch 4/30\n",
            "53/53 [==============================] - 5s 101ms/step - loss: 506.6328 - mean_absolute_error: 17.5794 - root_mean_squared_error: 22.5085 - val_loss: 11799.6865 - val_mean_absolute_error: 102.3208 - val_root_mean_squared_error: 108.6264\n",
            "Epoch 5/30\n",
            "53/53 [==============================] - 5s 102ms/step - loss: 358.3903 - mean_absolute_error: 13.7701 - root_mean_squared_error: 18.9312 - val_loss: 12346.2314 - val_mean_absolute_error: 105.0732 - val_root_mean_squared_error: 111.1136\n",
            "Epoch 6/30\n",
            "53/53 [==============================] - 5s 103ms/step - loss: 292.8326 - mean_absolute_error: 12.6381 - root_mean_squared_error: 17.1124 - val_loss: 12303.9854 - val_mean_absolute_error: 104.6123 - val_root_mean_squared_error: 110.9233\n",
            "Epoch 7/30\n",
            "53/53 [==============================] - 5s 100ms/step - loss: 207.9462 - mean_absolute_error: 11.7107 - root_mean_squared_error: 14.4203 - val_loss: 9742.2383 - val_mean_absolute_error: 91.4237 - val_root_mean_squared_error: 98.7028\n",
            "Epoch 8/30\n",
            "53/53 [==============================] - 6s 108ms/step - loss: 161.1042 - mean_absolute_error: 10.6881 - root_mean_squared_error: 12.6927 - val_loss: 11657.5000 - val_mean_absolute_error: 101.3035 - val_root_mean_squared_error: 107.9699\n",
            "Epoch 9/30\n",
            "53/53 [==============================] - 5s 102ms/step - loss: 71.9507 - mean_absolute_error: 6.1476 - root_mean_squared_error: 8.4824 - val_loss: 10191.4971 - val_mean_absolute_error: 93.9669 - val_root_mean_squared_error: 100.9529\n",
            "Epoch 10/30\n",
            "53/53 [==============================] - 6s 107ms/step - loss: 24.7146 - mean_absolute_error: 3.8638 - root_mean_squared_error: 4.9714 - val_loss: 10328.9170 - val_mean_absolute_error: 94.7293 - val_root_mean_squared_error: 101.6313\n",
            "Epoch 11/30\n",
            "53/53 [==============================] - 6s 115ms/step - loss: 14.5837 - mean_absolute_error: 3.0966 - root_mean_squared_error: 3.8189 - val_loss: 10517.1621 - val_mean_absolute_error: 95.6222 - val_root_mean_squared_error: 102.5532\n",
            "Epoch 12/30\n",
            "53/53 [==============================] - 6s 105ms/step - loss: 24.3250 - mean_absolute_error: 3.3806 - root_mean_squared_error: 4.9320 - val_loss: 9862.9473 - val_mean_absolute_error: 92.1098 - val_root_mean_squared_error: 99.3124\n",
            "Epoch 13/30\n",
            "53/53 [==============================] - 5s 101ms/step - loss: 67.2652 - mean_absolute_error: 4.2360 - root_mean_squared_error: 8.2015 - val_loss: 10258.0713 - val_mean_absolute_error: 94.3353 - val_root_mean_squared_error: 101.2821\n",
            "Epoch 14/30\n",
            "53/53 [==============================] - 5s 103ms/step - loss: 33.3555 - mean_absolute_error: 4.3803 - root_mean_squared_error: 5.7754 - val_loss: 11670.0693 - val_mean_absolute_error: 101.5000 - val_root_mean_squared_error: 108.0281\n",
            "Epoch 15/30\n",
            "53/53 [==============================] - 5s 100ms/step - loss: 41.8926 - mean_absolute_error: 5.2355 - root_mean_squared_error: 6.4724 - val_loss: 10299.3984 - val_mean_absolute_error: 94.5645 - val_root_mean_squared_error: 101.4860\n",
            "Epoch 16/30\n",
            "53/53 [==============================] - 6s 109ms/step - loss: 61.8689 - mean_absolute_error: 5.3139 - root_mean_squared_error: 7.8657 - val_loss: 11720.4600 - val_mean_absolute_error: 101.8192 - val_root_mean_squared_error: 108.2611\n",
            "Epoch 17/30\n",
            "53/53 [==============================] - 5s 102ms/step - loss: 96.7857 - mean_absolute_error: 7.8052 - root_mean_squared_error: 9.8380 - val_loss: 10579.7764 - val_mean_absolute_error: 96.0154 - val_root_mean_squared_error: 102.8580\n",
            "Epoch 18/30\n",
            "53/53 [==============================] - 5s 100ms/step - loss: 253.6421 - mean_absolute_error: 9.4903 - root_mean_squared_error: 15.9261 - val_loss: 11565.8818 - val_mean_absolute_error: 100.7844 - val_root_mean_squared_error: 107.5448\n",
            "Epoch 19/30\n",
            "53/53 [==============================] - 5s 104ms/step - loss: 324.1815 - mean_absolute_error: 10.3362 - root_mean_squared_error: 18.0050 - val_loss: 7380.6050 - val_mean_absolute_error: 78.7405 - val_root_mean_squared_error: 85.9104\n",
            "Epoch 20/30\n",
            "53/53 [==============================] - 5s 101ms/step - loss: 224.3550 - mean_absolute_error: 10.3480 - root_mean_squared_error: 14.9785 - val_loss: 12363.6689 - val_mean_absolute_error: 105.0193 - val_root_mean_squared_error: 111.1920\n",
            "Epoch 21/30\n",
            "53/53 [==============================] - 6s 112ms/step - loss: 203.6757 - mean_absolute_error: 10.5257 - root_mean_squared_error: 14.2715 - val_loss: 12803.7266 - val_mean_absolute_error: 107.3845 - val_root_mean_squared_error: 113.1535\n",
            "Epoch 22/30\n",
            "53/53 [==============================] - 6s 115ms/step - loss: 208.6219 - mean_absolute_error: 9.6890 - root_mean_squared_error: 14.4438 - val_loss: 9724.0869 - val_mean_absolute_error: 91.3430 - val_root_mean_squared_error: 98.6108\n",
            "Epoch 23/30\n",
            "53/53 [==============================] - 6s 115ms/step - loss: 167.6292 - mean_absolute_error: 8.4647 - root_mean_squared_error: 12.9472 - val_loss: 10704.0264 - val_mean_absolute_error: 96.7684 - val_root_mean_squared_error: 103.4603\n",
            "Epoch 24/30\n",
            "53/53 [==============================] - 6s 111ms/step - loss: 346.9709 - mean_absolute_error: 14.0409 - root_mean_squared_error: 18.6272 - val_loss: 8985.0352 - val_mean_absolute_error: 87.5505 - val_root_mean_squared_error: 94.7894\n",
            "Epoch 25/30\n",
            "53/53 [==============================] - 5s 101ms/step - loss: 177.0999 - mean_absolute_error: 9.8424 - root_mean_squared_error: 13.3079 - val_loss: 9317.5459 - val_mean_absolute_error: 89.8167 - val_root_mean_squared_error: 96.5274\n",
            "Epoch 26/30\n",
            "53/53 [==============================] - 5s 100ms/step - loss: 72.9221 - mean_absolute_error: 6.4743 - root_mean_squared_error: 8.5394 - val_loss: 9563.1006 - val_mean_absolute_error: 90.9636 - val_root_mean_squared_error: 97.7911\n",
            "Epoch 27/30\n",
            "53/53 [==============================] - 6s 109ms/step - loss: 47.3332 - mean_absolute_error: 5.5476 - root_mean_squared_error: 6.8799 - val_loss: 10212.4326 - val_mean_absolute_error: 94.4849 - val_root_mean_squared_error: 101.0566\n",
            "Epoch 28/30\n",
            "53/53 [==============================] - 5s 101ms/step - loss: 35.1864 - mean_absolute_error: 4.0121 - root_mean_squared_error: 5.9318 - val_loss: 9724.5537 - val_mean_absolute_error: 91.8285 - val_root_mean_squared_error: 98.6132\n",
            "Epoch 29/30\n",
            "53/53 [==============================] - 6s 107ms/step - loss: 14.8227 - mean_absolute_error: 2.8662 - root_mean_squared_error: 3.8500 - val_loss: 9678.3271 - val_mean_absolute_error: 91.4572 - val_root_mean_squared_error: 98.3785\n",
            "Epoch 30/30\n",
            "53/53 [==============================] - 5s 103ms/step - loss: 7.2880 - mean_absolute_error: 2.2034 - root_mean_squared_error: 2.6996 - val_loss: 10356.4150 - val_mean_absolute_error: 95.1429 - val_root_mean_squared_error: 101.7665\n"
          ]
        },
        {
          "output_type": "display_data",
          "data": {
            "text/plain": [
              "<Figure size 640x480 with 1 Axes>"
            ],
            "image/png": "[encoded data removed]"
          },
          "metadata": {}
        }
      ]
    },
    {
      "cell_type": "code",
      "source": [
        "if __name__ == \"__main__\":\n",
        "  print('vowlr')\n",
        "  tf.keras.backend.clear_session()\n",
        "\n",
        "  model = build_model(True)\n",
        "  model.load_weights('macbeth.hdf5')\n",
        "\n",
        "  x = reformat_mask_for_pred('./test_masks/coloa.png')\n",
        "  #print(x)\n",
        "  y = model.predict(x)\n",
        "  print(y[0])"
      ],
      "metadata": {
        "id": "jhaw_UVCqIMj",
        "colab": {
          "base_uri": "https://localhost:8080/"
        },
        "outputId": "e5eac3e6-a47c-4f22-bea1-dea1e27703dd"
      },
      "execution_count": 14,
      "outputs": [
        {
          "output_type": "stream",
          "name": "stdout",
          "text": [
            "vowlr\n",
            "Model: \"sequential\"\n",
            "_________________________________________________________________\n",
            " Layer (type)                Output Shape              Param #   \n",
            "=================================================================\n",
            " conv2d (Conv2D)             (None, 1022, 1022, 32)    896       \n",
            "                                                                 \n",
            " max_pooling2d (MaxPooling2  (None, 511, 511, 32)      0         \n",
            " D)                                                              \n",
            "                                                                 \n",
            " conv2d_1 (Conv2D)           (None, 509, 509, 64)      18496     \n",
            "                                                                 \n",
            " max_pooling2d_1 (MaxPoolin  (None, 254, 254, 64)      0         \n",
            " g2D)                                                            \n",
            "                                                                 \n",
            " conv2d_2 (Conv2D)           (None, 252, 252, 64)      36928     \n",
            "                                                                 \n",
            " flatten (Flatten)           (None, 4064256)           0         \n",
            "                                                                 \n",
            " dropout (Dropout)           (None, 4064256)           0         \n",
            "                                                                 \n",
            " dense (Dense)               (None, 64)                260112448 \n",
            "                                                                 \n",
            " dense_1 (Dense)             (None, 16)                1040      \n",
            "                                                                 \n",
            " dense_2 (Dense)             (None, 1)                 17        \n",
            "                                                                 \n",
            "=================================================================\n",
            "Total params: 260169825 (992.47 MB)\n",
            "Trainable params: 260169825 (992.47 MB)\n",
            "Non-trainable params: 0 (0.00 Byte)\n",
            "_________________________________________________________________\n",
            "1/1 [==============================] - 0s 117ms/step\n",
            "[17.253574]\n"
          ]
        }
      ]
    },
    {
      "cell_type": "code",
      "source": [
        "from google.colab import files\n",
        "files.download(\"./macbeth.hdf5\")"
      ],
      "metadata": {
        "colab": {
          "base_uri": "https://localhost:8080/",
          "height": 17
        },
        "id": "Z6daIMwk4jxa",
        "outputId": "6e76c739-4b61-467c-8d87-8192cf5b68e8"
      },
      "execution_count": null,
      "outputs": [
        {
          "output_type": "display_data",
          "data": {
            "text/plain": [
              "<IPython.core.display.Javascript object>"
            ],
            "application/javascript": [
              "\n",
              "    async function download(id, filename, size) {\n",
              "      if (!google.colab.kernel.accessAllowed) {\n",
              "        return;\n",
              "      }\n",
              "      const div = document.createElement('div');\n",
              "      const label = document.createElement('label');\n",
              "      label.textContent = `Downloading \"${filename}\": `;\n",
              "      div.appendChild(label);\n",
              "      const progress = document.createElement('progress');\n",
              "      progress.max = size;\n",
              "      div.appendChild(progress);\n",
              "      document.body.appendChild(div);\n",
              "\n",
              "      const buffers = [];\n",
              "      let downloaded = 0;\n",
              "\n",
              "      const channel = await google.colab.kernel.comms.open(id);\n",
              "      // Send a message to notify the kernel that we're ready.\n",
              "      channel.send({})\n",
              "\n",
              "      for await (const message of channel.messages) {\n",
              "        // Send a message to notify the kernel that we're ready.\n",
              "        channel.send({})\n",
              "        if (message.buffers) {\n",
              "          for (const buffer of message.buffers) {\n",
              "            buffers.push(buffer);\n",
              "            downloaded += buffer.byteLength;\n",
              "            progress.value = downloaded;\n",
              "          }\n",
              "        }\n",
              "      }\n",
              "      const blob = new Blob(buffers, {type: 'application/binary'});\n",
              "      const a = document.createElement('a');\n",
              "      a.href = window.URL.createObjectURL(blob);\n",
              "      a.download = filename;\n",
              "      div.appendChild(a);\n",
              "      a.click();\n",
              "      div.remove();\n",
              "    }\n",
              "  "
            ]
          },
          "metadata": {}
        },
        {
          "output_type": "display_data",
          "data": {
            "text/plain": [
              "<IPython.core.display.Javascript object>"
            ],
            "application/javascript": [
              "download(\"download_0fc33080-1ae4-494d-b5e6-4fe665b0a787\", \"macbeth.hdf5\", 504345616)"
            ]
          },
          "metadata": {}
        }
      ]
    },
    {
      "cell_type": "markdown",
      "source": [
        "Model 1 - Do not run"
      ],
      "metadata": {
        "id": "TwXEMLGplurO"
      }
    },
    {
      "cell_type": "code",
      "source": [
        "import shutil\n",
        "shutil.copy(\"./drive/MyDrive/models/best-model.pth\", \"./models/best-model.pth\")"
      ],
      "metadata": {
        "colab": {
          "base_uri": "https://localhost:8080/",
          "height": 35
        },
        "id": "1etV9C6w2cw4",
        "outputId": "970f55c1-04ad-4419-bcdc-7f7011d79d4d"
      },
      "execution_count": null,
      "outputs": [
        {
          "output_type": "execute_result",
          "data": {
            "text/plain": [
              "'./models/best-model.pth'"
            ],
            "application/vnd.google.colaboratory.intrinsic+json": {
              "type": "string"
            }
          },
          "metadata": {},
          "execution_count": 46
        }
      ]
    },
    {
      "cell_type": "code",
      "source": [
        "from fastai.vision.all import *"
      ],
      "metadata": {
        "id": "xYCKhprN796T"
      },
      "execution_count": null,
      "outputs": []
    },
    {
      "cell_type": "code",
      "source": [
        "def build_model1(model_path):\n",
        "  from tqdm import tqdm\n",
        "  import pathlib\n",
        "  plt = platform.system()\n",
        "  print(plt)\n",
        "  if plt == 'Linux': pathlib.WindowsPath = pathlib.PosixPath\n",
        "  torch.cuda.empty_cache()\n",
        "\n",
        "  #model = unet_learner(arch=xresnet34)\n",
        "  model = load_learner(model_path+r'berlin3.pkl', cpu=False)\n",
        "  model.load('best-model')\n",
        "  return model"
      ],
      "metadata": {
        "colab": {
          "base_uri": "https://localhost:8080/",
          "height": 140
        },
        "id": "Kg8s4xN_wwOb",
        "outputId": "510faa83-d6a8-470b-ee44-94ed51ce827a"
      },
      "execution_count": null,
      "outputs": [
        {
          "output_type": "error",
          "ename": "SyntaxError",
          "evalue": "import * only allowed at module level (<ipython-input-11-f3d0743f2f33>, line 2)",
          "traceback": [
            "\u001b[0;36m  File \u001b[0;32m\"<ipython-input-11-f3d0743f2f33>\"\u001b[0;36m, line \u001b[0;32m2\u001b[0m\n\u001b[0;31m    from fastai.vision.all import *\u001b[0m\n\u001b[0m                                  ^\u001b[0m\n\u001b[0;31mSyntaxError\u001b[0m\u001b[0;31m:\u001b[0m import * only allowed at module level\n"
          ]
        }
      ]
    },
    {
      "cell_type": "code",
      "source": [
        "from PIL import Image\n",
        "\n",
        "def generate_pred_model1(model):\n",
        "  pics = os.listdir(r'./earth/')\n",
        "  for img in pics:\n",
        "    torch.cuda.empty_cache()\n",
        "    im = Image.open(r'./earth/'+img)\n",
        "    im.thumbnail((3000, 3000), Image.Resampling.LANCZOS)\n",
        "    m = model.predict(im)\n",
        "    m = to_image(m[2][1].repeat(3,1,1))\n",
        "    pathsave = r'./earth_pics/'+img\n",
        "    m.save(pathsave, \"JPEG\")"
      ],
      "metadata": {
        "id": "08sfTGalxN5O"
      },
      "execution_count": null,
      "outputs": []
    },
    {
      "cell_type": "code",
      "source": [
        "def get_image_tiles_NEW2(path:Path) -> L:\n",
        "   files = L()\n",
        "   files = get_image_files(path=path, folders='im_tiles_ds2')\n",
        "   return files\n",
        "\n",
        "def get_y_fn_NEW2(fn:Path) -> str:\n",
        "  #print(str(fn).replace('im_tiles', 'gt_tiles'))\n",
        "  return str(fn).replace('im_tiles', 'gt_tiles')\n",
        "\n",
        "def get_y_NEW2(fn:Path) -> PILMask:\n",
        "   fn = get_y_fn_NEW2(fn)\n",
        "   msk = np.array(PILMask.create(fn))\n",
        "   #print(msk)\n",
        "   #msk[msk==255] = 1\n",
        "   msk = msk / 255\n",
        "   #print(msk)\n",
        "   return PILMask.create(msk)"
      ],
      "metadata": {
        "id": "5E_owlXn1BxH"
      },
      "execution_count": null,
      "outputs": []
    },
    {
      "cell_type": "code",
      "source": [
        "!zip -r './file.zip' './earth_pics/'"
      ],
      "metadata": {
        "colab": {
          "base_uri": "https://localhost:8080/"
        },
        "id": "Q3kI3j0Y4UT-",
        "outputId": "e23d2fd8-dd1f-42fe-93db-a2acb973be1b"
      },
      "execution_count": null,
      "outputs": [
        {
          "output_type": "stream",
          "name": "stdout",
          "text": [
            "  adding: earth_pics/ (stored 0%)\n",
            "  adding: earth_pics/hanoi_conhue.jpg (deflated 9%)\n",
            "  adding: earth_pics/hanoi_cuanam.jpg (deflated 1%)\n",
            "  adding: earth_pics/hcm_tanphu.jpg (deflated 2%)\n",
            "  adding: earth_pics/hanoi_socson.jpg (deflated 8%)\n",
            "  adding: earth_pics/hanoi_tulien.jpg (deflated 4%)\n",
            "  adding: earth_pics/hanoi_minhkhai.jpg (deflated 0%)\n",
            "  adding: earth_pics/hcm_govap.jpg (deflated 0%)\n",
            "  adding: earth_pics/phuquoc_nam.jpg (deflated 9%)\n",
            "  adding: earth_pics/quangninh_uongbi.jpg (deflated 2%)\n",
            "  adding: earth_pics/hanoi_quangan.jpg (deflated 16%)\n",
            "  adding: earth_pics/hanoi_caugiay.jpg (deflated 1%)\n",
            "  adding: earth_pics/hanoi_vandien.jpg (deflated 2%)\n",
            "  adding: earth_pics/hcm_q10.jpg (deflated 0%)\n",
            "  adding: earth_pics/hanoi_tayho.jpg (deflated 6%)\n",
            "  adding: earth_pics/hanoi_ngoclam.jpg (deflated 1%)\n",
            "  adding: earth_pics/hanoi_quocoai.jpg (deflated 4%)\n",
            "  adding: earth_pics/danang.jpg (deflated 0%)\n",
            "  adding: earth_pics/baria.jpg (deflated 1%)\n",
            "  adding: earth_pics/halong.jpg (deflated 5%)\n",
            "  adding: earth_pics/vungtau.jpg (deflated 1%)\n",
            "  adding: earth_pics/hanoi_xuantao.jpg (deflated 5%)\n",
            "  adding: earth_pics/haiphong.jpg (deflated 1%)\n",
            "  adding: earth_pics/hanoi_ngocthuy.jpg (deflated 2%)\n",
            "  adding: earth_pics/hanoi_xuandinh.jpg (deflated 5%)\n",
            "  adding: earth_pics/hanoi_hangbai.jpg (deflated 1%)\n",
            "  adding: earth_pics/hcm_thaodien.jpg (deflated 2%)\n",
            "  adding: earth_pics/hanoi_ochodua.jpg (deflated 1%)\n",
            "  adding: earth_pics/hcm_q1.jpg (deflated 1%)\n",
            "  adding: earth_pics/hanoi_daidong.jpg (deflated 11%)\n",
            "  adding: earth_pics/daocathai.jpg (deflated 13%)\n"
          ]
        }
      ]
    }
  ]
}